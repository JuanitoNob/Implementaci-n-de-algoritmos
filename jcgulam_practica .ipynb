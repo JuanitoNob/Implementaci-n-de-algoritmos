{
  "cells": [
    {
      "cell_type": "markdown",
      "metadata": {
        "id": "9IQyJL5vVhk0"
      },
      "source": [
        "# Práctica Final: Clasificación de Documentos con Scikit-learn y MLflow\n",
        "\n",
        "En esta práctica, utilizarás un conjunto de datos de Scikit-learn (podeís usar el mismo que en el notebook de Intro MLFlow) para entrenar un modelo de clasificación de documentos. El objetivo es construir un modelo capaz de clasificar automáticamente documentos en categorías predefinidas.\n",
        "\n",
        "Pasos a seguir:\n",
        "\n",
        "    Exploración de Datos: Analiza el conjunto de datos proporcionado para comprender su estructura y contenido.\n",
        "\n",
        "    Preprocesamiento de Texto: Realiza tareas de preprocesamiento de texto, como tokenización y vectorización, para preparar los datos para el modelado.\n",
        "\n",
        "    Entrenamiento del Modelo: Utiliza algoritmos de clasificación de Scikit-learn para entrenar un modelo con los datos preprocesados.\n",
        "\n",
        "    Evaluación del Modelo: Evalúa el rendimiento del modelo utilizando métricas de evaluación estándar como precisión y recall.\n",
        "\n",
        "    Registro de Métricas con MLflow: Utiliza MLflow para registrar métricas y hiperparámetros durante el entrenamiento, facilitando la gestión y comparación de experimentos.\n",
        "\n",
        "\n",
        "Nota: Dado que no voy a poder tener acceso a vuestros logs de MLFlow añadirme las imagenes de la interfaz de MLFlow en el notebook"
      ]
    },
    {
      "cell_type": "code",
      "execution_count": 1,
      "metadata": {
        "colab": {
          "base_uri": "https://localhost:8080/"
        },
        "id": "BwJlz4iZf46N",
        "outputId": "7a021a19-dca4-4649-b9e6-189ba035b48a"
      },
      "outputs": [
        {
          "output_type": "stream",
          "name": "stdout",
          "text": [
            "Requirement already satisfied: mlflow in /usr/local/lib/python3.10/dist-packages (2.11.3)\n",
            "Requirement already satisfied: click<9,>=7.0 in /usr/local/lib/python3.10/dist-packages (from mlflow) (8.1.7)\n",
            "Requirement already satisfied: cloudpickle<4 in /usr/local/lib/python3.10/dist-packages (from mlflow) (2.2.1)\n",
            "Requirement already satisfied: entrypoints<1 in /usr/local/lib/python3.10/dist-packages (from mlflow) (0.4)\n",
            "Requirement already satisfied: gitpython<4,>=3.1.9 in /usr/local/lib/python3.10/dist-packages (from mlflow) (3.1.43)\n",
            "Requirement already satisfied: pyyaml<7,>=5.1 in /usr/local/lib/python3.10/dist-packages (from mlflow) (6.0.1)\n",
            "Requirement already satisfied: protobuf<5,>=3.12.0 in /usr/local/lib/python3.10/dist-packages (from mlflow) (3.20.3)\n",
            "Requirement already satisfied: pytz<2025 in /usr/local/lib/python3.10/dist-packages (from mlflow) (2023.4)\n",
            "Requirement already satisfied: requests<3,>=2.17.3 in /usr/local/lib/python3.10/dist-packages (from mlflow) (2.31.0)\n",
            "Requirement already satisfied: packaging<24 in /usr/local/lib/python3.10/dist-packages (from mlflow) (23.2)\n",
            "Requirement already satisfied: importlib-metadata!=4.7.0,<8,>=3.7.0 in /usr/local/lib/python3.10/dist-packages (from mlflow) (7.1.0)\n",
            "Requirement already satisfied: sqlparse<1,>=0.4.0 in /usr/local/lib/python3.10/dist-packages (from mlflow) (0.4.4)\n",
            "Requirement already satisfied: alembic!=1.10.0,<2 in /usr/local/lib/python3.10/dist-packages (from mlflow) (1.13.1)\n",
            "Requirement already satisfied: docker<8,>=4.0.0 in /usr/local/lib/python3.10/dist-packages (from mlflow) (7.0.0)\n",
            "Requirement already satisfied: Flask<4 in /usr/local/lib/python3.10/dist-packages (from mlflow) (2.2.5)\n",
            "Requirement already satisfied: numpy<2 in /usr/local/lib/python3.10/dist-packages (from mlflow) (1.26.4)\n",
            "Requirement already satisfied: scipy<2 in /usr/local/lib/python3.10/dist-packages (from mlflow) (1.13.0)\n",
            "Requirement already satisfied: pandas<3 in /usr/local/lib/python3.10/dist-packages (from mlflow) (2.2.1)\n",
            "Requirement already satisfied: querystring-parser<2 in /usr/local/lib/python3.10/dist-packages (from mlflow) (1.2.4)\n",
            "Requirement already satisfied: sqlalchemy<3,>=1.4.0 in /usr/local/lib/python3.10/dist-packages (from mlflow) (2.0.29)\n",
            "Requirement already satisfied: scikit-learn<2 in /usr/local/lib/python3.10/dist-packages (from mlflow) (1.2.2)\n",
            "Requirement already satisfied: pyarrow<16,>=4.0.0 in /usr/local/lib/python3.10/dist-packages (from mlflow) (14.0.2)\n",
            "Requirement already satisfied: markdown<4,>=3.3 in /usr/local/lib/python3.10/dist-packages (from mlflow) (3.6)\n",
            "Requirement already satisfied: matplotlib<4 in /usr/local/lib/python3.10/dist-packages (from mlflow) (3.7.1)\n",
            "Requirement already satisfied: graphene<4 in /usr/local/lib/python3.10/dist-packages (from mlflow) (3.3)\n",
            "Requirement already satisfied: gunicorn<22 in /usr/local/lib/python3.10/dist-packages (from mlflow) (21.2.0)\n",
            "Requirement already satisfied: Jinja2<4,>=2.11 in /usr/local/lib/python3.10/dist-packages (from mlflow) (3.1.3)\n",
            "Requirement already satisfied: Mako in /usr/local/lib/python3.10/dist-packages (from alembic!=1.10.0,<2->mlflow) (1.3.2)\n",
            "Requirement already satisfied: typing-extensions>=4 in /usr/local/lib/python3.10/dist-packages (from alembic!=1.10.0,<2->mlflow) (4.10.0)\n",
            "Requirement already satisfied: urllib3>=1.26.0 in /usr/local/lib/python3.10/dist-packages (from docker<8,>=4.0.0->mlflow) (2.0.7)\n",
            "Requirement already satisfied: Werkzeug>=2.2.2 in /usr/local/lib/python3.10/dist-packages (from Flask<4->mlflow) (3.0.2)\n",
            "Requirement already satisfied: itsdangerous>=2.0 in /usr/local/lib/python3.10/dist-packages (from Flask<4->mlflow) (2.1.2)\n",
            "Requirement already satisfied: gitdb<5,>=4.0.1 in /usr/local/lib/python3.10/dist-packages (from gitpython<4,>=3.1.9->mlflow) (4.0.11)\n",
            "Requirement already satisfied: graphql-core<3.3,>=3.1 in /usr/local/lib/python3.10/dist-packages (from graphene<4->mlflow) (3.2.3)\n",
            "Requirement already satisfied: graphql-relay<3.3,>=3.1 in /usr/local/lib/python3.10/dist-packages (from graphene<4->mlflow) (3.2.0)\n",
            "Requirement already satisfied: aniso8601<10,>=8 in /usr/local/lib/python3.10/dist-packages (from graphene<4->mlflow) (9.0.1)\n",
            "Requirement already satisfied: zipp>=0.5 in /usr/local/lib/python3.10/dist-packages (from importlib-metadata!=4.7.0,<8,>=3.7.0->mlflow) (3.18.1)\n",
            "Requirement already satisfied: MarkupSafe>=2.0 in /usr/local/lib/python3.10/dist-packages (from Jinja2<4,>=2.11->mlflow) (2.1.5)\n",
            "Requirement already satisfied: contourpy>=1.0.1 in /usr/local/lib/python3.10/dist-packages (from matplotlib<4->mlflow) (1.2.0)\n",
            "Requirement already satisfied: cycler>=0.10 in /usr/local/lib/python3.10/dist-packages (from matplotlib<4->mlflow) (0.12.1)\n",
            "Requirement already satisfied: fonttools>=4.22.0 in /usr/local/lib/python3.10/dist-packages (from matplotlib<4->mlflow) (4.50.0)\n",
            "Requirement already satisfied: kiwisolver>=1.0.1 in /usr/local/lib/python3.10/dist-packages (from matplotlib<4->mlflow) (1.4.5)\n",
            "Requirement already satisfied: pillow>=6.2.0 in /usr/local/lib/python3.10/dist-packages (from matplotlib<4->mlflow) (9.4.0)\n",
            "Requirement already satisfied: pyparsing>=2.3.1 in /usr/local/lib/python3.10/dist-packages (from matplotlib<4->mlflow) (3.1.2)\n",
            "Requirement already satisfied: python-dateutil>=2.7 in /usr/local/lib/python3.10/dist-packages (from matplotlib<4->mlflow) (2.8.2)\n",
            "Requirement already satisfied: tzdata>=2022.7 in /usr/local/lib/python3.10/dist-packages (from pandas<3->mlflow) (2024.1)\n",
            "Requirement already satisfied: six in /usr/local/lib/python3.10/dist-packages (from querystring-parser<2->mlflow) (1.16.0)\n",
            "Requirement already satisfied: charset-normalizer<4,>=2 in /usr/local/lib/python3.10/dist-packages (from requests<3,>=2.17.3->mlflow) (3.3.2)\n",
            "Requirement already satisfied: idna<4,>=2.5 in /usr/local/lib/python3.10/dist-packages (from requests<3,>=2.17.3->mlflow) (3.6)\n",
            "Requirement already satisfied: certifi>=2017.4.17 in /usr/local/lib/python3.10/dist-packages (from requests<3,>=2.17.3->mlflow) (2024.2.2)\n",
            "Requirement already satisfied: joblib>=1.1.1 in /usr/local/lib/python3.10/dist-packages (from scikit-learn<2->mlflow) (1.3.2)\n",
            "Requirement already satisfied: threadpoolctl>=2.0.0 in /usr/local/lib/python3.10/dist-packages (from scikit-learn<2->mlflow) (3.4.0)\n",
            "Requirement already satisfied: greenlet!=0.4.17 in /usr/local/lib/python3.10/dist-packages (from sqlalchemy<3,>=1.4.0->mlflow) (3.0.3)\n",
            "Requirement already satisfied: smmap<6,>=3.0.1 in /usr/local/lib/python3.10/dist-packages (from gitdb<5,>=4.0.1->gitpython<4,>=3.1.9->mlflow) (5.0.1)\n"
          ]
        }
      ],
      "source": [
        "! pip install mlflow"
      ]
    },
    {
      "cell_type": "code",
      "execution_count": 2,
      "metadata": {
        "id": "C24WN59MVhk5"
      },
      "outputs": [],
      "source": [
        "import pandas as pd\n",
        "import numpy as np\n",
        "import mlflow\n",
        "import mlflow.sklearn\n",
        "\n",
        "import matplotlib.pyplot as plt\n",
        "\n",
        "from sklearn.model_selection import train_test_split\n",
        "from sklearn.ensemble import RandomForestClassifier\n",
        "from sklearn.linear_model import LogisticRegression\n",
        "\n",
        "from sklearn.pipeline import Pipeline\n",
        "from sklearn.preprocessing import StandardScaler\n",
        "\n",
        "from sklearn.model_selection import train_test_split, cross_val_score\n",
        "\n",
        "from sklearn.metrics import accuracy_score, precision_score, recall_score\n"
      ]
    },
    {
      "cell_type": "code",
      "execution_count": 3,
      "metadata": {
        "id": "gErFg-3jVhk6"
      },
      "outputs": [],
      "source": [
        "from sklearn.datasets import load_breast_cancer\n",
        "cancer = load_breast_cancer()"
      ]
    },
    {
      "cell_type": "code",
      "execution_count": 4,
      "metadata": {
        "id": "c9WI3LosVhk6"
      },
      "outputs": [],
      "source": [
        "df = pd.DataFrame(cancer['data'], columns=cancer['feature_names'])\n",
        "df['target'] = cancer['target']"
      ]
    },
    {
      "cell_type": "code",
      "execution_count": 5,
      "metadata": {
        "colab": {
          "base_uri": "https://localhost:8080/"
        },
        "id": "d-k5iYTlVhk7",
        "outputId": "d34dd400-aa8d-441a-acd1-73a040360245"
      },
      "outputs": [
        {
          "output_type": "execute_result",
          "data": {
            "text/plain": [
              "(569, 31)"
            ]
          },
          "metadata": {},
          "execution_count": 5
        }
      ],
      "source": [
        "df.shape"
      ]
    },
    {
      "cell_type": "code",
      "execution_count": 6,
      "metadata": {
        "colab": {
          "base_uri": "https://localhost:8080/",
          "height": 1000
        },
        "id": "GevNuwCWVhk7",
        "outputId": "1a304413-0b79-4586-b6ad-ca87859d8384"
      },
      "outputs": [
        {
          "output_type": "execute_result",
          "data": {
            "text/plain": [
              "                         count        mean         std         min  \\\n",
              "mean radius              569.0   14.127292    3.524049    6.981000   \n",
              "mean texture             569.0   19.289649    4.301036    9.710000   \n",
              "mean perimeter           569.0   91.969033   24.298981   43.790000   \n",
              "mean area                569.0  654.889104  351.914129  143.500000   \n",
              "mean smoothness          569.0    0.096360    0.014064    0.052630   \n",
              "mean compactness         569.0    0.104341    0.052813    0.019380   \n",
              "mean concavity           569.0    0.088799    0.079720    0.000000   \n",
              "mean concave points      569.0    0.048919    0.038803    0.000000   \n",
              "mean symmetry            569.0    0.181162    0.027414    0.106000   \n",
              "mean fractal dimension   569.0    0.062798    0.007060    0.049960   \n",
              "radius error             569.0    0.405172    0.277313    0.111500   \n",
              "texture error            569.0    1.216853    0.551648    0.360200   \n",
              "perimeter error          569.0    2.866059    2.021855    0.757000   \n",
              "area error               569.0   40.337079   45.491006    6.802000   \n",
              "smoothness error         569.0    0.007041    0.003003    0.001713   \n",
              "compactness error        569.0    0.025478    0.017908    0.002252   \n",
              "concavity error          569.0    0.031894    0.030186    0.000000   \n",
              "concave points error     569.0    0.011796    0.006170    0.000000   \n",
              "symmetry error           569.0    0.020542    0.008266    0.007882   \n",
              "fractal dimension error  569.0    0.003795    0.002646    0.000895   \n",
              "worst radius             569.0   16.269190    4.833242    7.930000   \n",
              "worst texture            569.0   25.677223    6.146258   12.020000   \n",
              "worst perimeter          569.0  107.261213   33.602542   50.410000   \n",
              "worst area               569.0  880.583128  569.356993  185.200000   \n",
              "worst smoothness         569.0    0.132369    0.022832    0.071170   \n",
              "worst compactness        569.0    0.254265    0.157336    0.027290   \n",
              "worst concavity          569.0    0.272188    0.208624    0.000000   \n",
              "worst concave points     569.0    0.114606    0.065732    0.000000   \n",
              "worst symmetry           569.0    0.290076    0.061867    0.156500   \n",
              "worst fractal dimension  569.0    0.083946    0.018061    0.055040   \n",
              "target                   569.0    0.627417    0.483918    0.000000   \n",
              "\n",
              "                                25%         50%          75%         max  \n",
              "mean radius               11.700000   13.370000    15.780000    28.11000  \n",
              "mean texture              16.170000   18.840000    21.800000    39.28000  \n",
              "mean perimeter            75.170000   86.240000   104.100000   188.50000  \n",
              "mean area                420.300000  551.100000   782.700000  2501.00000  \n",
              "mean smoothness            0.086370    0.095870     0.105300     0.16340  \n",
              "mean compactness           0.064920    0.092630     0.130400     0.34540  \n",
              "mean concavity             0.029560    0.061540     0.130700     0.42680  \n",
              "mean concave points        0.020310    0.033500     0.074000     0.20120  \n",
              "mean symmetry              0.161900    0.179200     0.195700     0.30400  \n",
              "mean fractal dimension     0.057700    0.061540     0.066120     0.09744  \n",
              "radius error               0.232400    0.324200     0.478900     2.87300  \n",
              "texture error              0.833900    1.108000     1.474000     4.88500  \n",
              "perimeter error            1.606000    2.287000     3.357000    21.98000  \n",
              "area error                17.850000   24.530000    45.190000   542.20000  \n",
              "smoothness error           0.005169    0.006380     0.008146     0.03113  \n",
              "compactness error          0.013080    0.020450     0.032450     0.13540  \n",
              "concavity error            0.015090    0.025890     0.042050     0.39600  \n",
              "concave points error       0.007638    0.010930     0.014710     0.05279  \n",
              "symmetry error             0.015160    0.018730     0.023480     0.07895  \n",
              "fractal dimension error    0.002248    0.003187     0.004558     0.02984  \n",
              "worst radius              13.010000   14.970000    18.790000    36.04000  \n",
              "worst texture             21.080000   25.410000    29.720000    49.54000  \n",
              "worst perimeter           84.110000   97.660000   125.400000   251.20000  \n",
              "worst area               515.300000  686.500000  1084.000000  4254.00000  \n",
              "worst smoothness           0.116600    0.131300     0.146000     0.22260  \n",
              "worst compactness          0.147200    0.211900     0.339100     1.05800  \n",
              "worst concavity            0.114500    0.226700     0.382900     1.25200  \n",
              "worst concave points       0.064930    0.099930     0.161400     0.29100  \n",
              "worst symmetry             0.250400    0.282200     0.317900     0.66380  \n",
              "worst fractal dimension    0.071460    0.080040     0.092080     0.20750  \n",
              "target                     0.000000    1.000000     1.000000     1.00000  "
            ],
            "text/html": [
              "\n",
              "  <div id=\"df-b16a582e-2b73-4a78-b6f2-bb3ac61464c8\" class=\"colab-df-container\">\n",
              "    <div>\n",
              "<style scoped>\n",
              "    .dataframe tbody tr th:only-of-type {\n",
              "        vertical-align: middle;\n",
              "    }\n",
              "\n",
              "    .dataframe tbody tr th {\n",
              "        vertical-align: top;\n",
              "    }\n",
              "\n",
              "    .dataframe thead th {\n",
              "        text-align: right;\n",
              "    }\n",
              "</style>\n",
              "<table border=\"1\" class=\"dataframe\">\n",
              "  <thead>\n",
              "    <tr style=\"text-align: right;\">\n",
              "      <th></th>\n",
              "      <th>count</th>\n",
              "      <th>mean</th>\n",
              "      <th>std</th>\n",
              "      <th>min</th>\n",
              "      <th>25%</th>\n",
              "      <th>50%</th>\n",
              "      <th>75%</th>\n",
              "      <th>max</th>\n",
              "    </tr>\n",
              "  </thead>\n",
              "  <tbody>\n",
              "    <tr>\n",
              "      <th>mean radius</th>\n",
              "      <td>569.0</td>\n",
              "      <td>14.127292</td>\n",
              "      <td>3.524049</td>\n",
              "      <td>6.981000</td>\n",
              "      <td>11.700000</td>\n",
              "      <td>13.370000</td>\n",
              "      <td>15.780000</td>\n",
              "      <td>28.11000</td>\n",
              "    </tr>\n",
              "    <tr>\n",
              "      <th>mean texture</th>\n",
              "      <td>569.0</td>\n",
              "      <td>19.289649</td>\n",
              "      <td>4.301036</td>\n",
              "      <td>9.710000</td>\n",
              "      <td>16.170000</td>\n",
              "      <td>18.840000</td>\n",
              "      <td>21.800000</td>\n",
              "      <td>39.28000</td>\n",
              "    </tr>\n",
              "    <tr>\n",
              "      <th>mean perimeter</th>\n",
              "      <td>569.0</td>\n",
              "      <td>91.969033</td>\n",
              "      <td>24.298981</td>\n",
              "      <td>43.790000</td>\n",
              "      <td>75.170000</td>\n",
              "      <td>86.240000</td>\n",
              "      <td>104.100000</td>\n",
              "      <td>188.50000</td>\n",
              "    </tr>\n",
              "    <tr>\n",
              "      <th>mean area</th>\n",
              "      <td>569.0</td>\n",
              "      <td>654.889104</td>\n",
              "      <td>351.914129</td>\n",
              "      <td>143.500000</td>\n",
              "      <td>420.300000</td>\n",
              "      <td>551.100000</td>\n",
              "      <td>782.700000</td>\n",
              "      <td>2501.00000</td>\n",
              "    </tr>\n",
              "    <tr>\n",
              "      <th>mean smoothness</th>\n",
              "      <td>569.0</td>\n",
              "      <td>0.096360</td>\n",
              "      <td>0.014064</td>\n",
              "      <td>0.052630</td>\n",
              "      <td>0.086370</td>\n",
              "      <td>0.095870</td>\n",
              "      <td>0.105300</td>\n",
              "      <td>0.16340</td>\n",
              "    </tr>\n",
              "    <tr>\n",
              "      <th>mean compactness</th>\n",
              "      <td>569.0</td>\n",
              "      <td>0.104341</td>\n",
              "      <td>0.052813</td>\n",
              "      <td>0.019380</td>\n",
              "      <td>0.064920</td>\n",
              "      <td>0.092630</td>\n",
              "      <td>0.130400</td>\n",
              "      <td>0.34540</td>\n",
              "    </tr>\n",
              "    <tr>\n",
              "      <th>mean concavity</th>\n",
              "      <td>569.0</td>\n",
              "      <td>0.088799</td>\n",
              "      <td>0.079720</td>\n",
              "      <td>0.000000</td>\n",
              "      <td>0.029560</td>\n",
              "      <td>0.061540</td>\n",
              "      <td>0.130700</td>\n",
              "      <td>0.42680</td>\n",
              "    </tr>\n",
              "    <tr>\n",
              "      <th>mean concave points</th>\n",
              "      <td>569.0</td>\n",
              "      <td>0.048919</td>\n",
              "      <td>0.038803</td>\n",
              "      <td>0.000000</td>\n",
              "      <td>0.020310</td>\n",
              "      <td>0.033500</td>\n",
              "      <td>0.074000</td>\n",
              "      <td>0.20120</td>\n",
              "    </tr>\n",
              "    <tr>\n",
              "      <th>mean symmetry</th>\n",
              "      <td>569.0</td>\n",
              "      <td>0.181162</td>\n",
              "      <td>0.027414</td>\n",
              "      <td>0.106000</td>\n",
              "      <td>0.161900</td>\n",
              "      <td>0.179200</td>\n",
              "      <td>0.195700</td>\n",
              "      <td>0.30400</td>\n",
              "    </tr>\n",
              "    <tr>\n",
              "      <th>mean fractal dimension</th>\n",
              "      <td>569.0</td>\n",
              "      <td>0.062798</td>\n",
              "      <td>0.007060</td>\n",
              "      <td>0.049960</td>\n",
              "      <td>0.057700</td>\n",
              "      <td>0.061540</td>\n",
              "      <td>0.066120</td>\n",
              "      <td>0.09744</td>\n",
              "    </tr>\n",
              "    <tr>\n",
              "      <th>radius error</th>\n",
              "      <td>569.0</td>\n",
              "      <td>0.405172</td>\n",
              "      <td>0.277313</td>\n",
              "      <td>0.111500</td>\n",
              "      <td>0.232400</td>\n",
              "      <td>0.324200</td>\n",
              "      <td>0.478900</td>\n",
              "      <td>2.87300</td>\n",
              "    </tr>\n",
              "    <tr>\n",
              "      <th>texture error</th>\n",
              "      <td>569.0</td>\n",
              "      <td>1.216853</td>\n",
              "      <td>0.551648</td>\n",
              "      <td>0.360200</td>\n",
              "      <td>0.833900</td>\n",
              "      <td>1.108000</td>\n",
              "      <td>1.474000</td>\n",
              "      <td>4.88500</td>\n",
              "    </tr>\n",
              "    <tr>\n",
              "      <th>perimeter error</th>\n",
              "      <td>569.0</td>\n",
              "      <td>2.866059</td>\n",
              "      <td>2.021855</td>\n",
              "      <td>0.757000</td>\n",
              "      <td>1.606000</td>\n",
              "      <td>2.287000</td>\n",
              "      <td>3.357000</td>\n",
              "      <td>21.98000</td>\n",
              "    </tr>\n",
              "    <tr>\n",
              "      <th>area error</th>\n",
              "      <td>569.0</td>\n",
              "      <td>40.337079</td>\n",
              "      <td>45.491006</td>\n",
              "      <td>6.802000</td>\n",
              "      <td>17.850000</td>\n",
              "      <td>24.530000</td>\n",
              "      <td>45.190000</td>\n",
              "      <td>542.20000</td>\n",
              "    </tr>\n",
              "    <tr>\n",
              "      <th>smoothness error</th>\n",
              "      <td>569.0</td>\n",
              "      <td>0.007041</td>\n",
              "      <td>0.003003</td>\n",
              "      <td>0.001713</td>\n",
              "      <td>0.005169</td>\n",
              "      <td>0.006380</td>\n",
              "      <td>0.008146</td>\n",
              "      <td>0.03113</td>\n",
              "    </tr>\n",
              "    <tr>\n",
              "      <th>compactness error</th>\n",
              "      <td>569.0</td>\n",
              "      <td>0.025478</td>\n",
              "      <td>0.017908</td>\n",
              "      <td>0.002252</td>\n",
              "      <td>0.013080</td>\n",
              "      <td>0.020450</td>\n",
              "      <td>0.032450</td>\n",
              "      <td>0.13540</td>\n",
              "    </tr>\n",
              "    <tr>\n",
              "      <th>concavity error</th>\n",
              "      <td>569.0</td>\n",
              "      <td>0.031894</td>\n",
              "      <td>0.030186</td>\n",
              "      <td>0.000000</td>\n",
              "      <td>0.015090</td>\n",
              "      <td>0.025890</td>\n",
              "      <td>0.042050</td>\n",
              "      <td>0.39600</td>\n",
              "    </tr>\n",
              "    <tr>\n",
              "      <th>concave points error</th>\n",
              "      <td>569.0</td>\n",
              "      <td>0.011796</td>\n",
              "      <td>0.006170</td>\n",
              "      <td>0.000000</td>\n",
              "      <td>0.007638</td>\n",
              "      <td>0.010930</td>\n",
              "      <td>0.014710</td>\n",
              "      <td>0.05279</td>\n",
              "    </tr>\n",
              "    <tr>\n",
              "      <th>symmetry error</th>\n",
              "      <td>569.0</td>\n",
              "      <td>0.020542</td>\n",
              "      <td>0.008266</td>\n",
              "      <td>0.007882</td>\n",
              "      <td>0.015160</td>\n",
              "      <td>0.018730</td>\n",
              "      <td>0.023480</td>\n",
              "      <td>0.07895</td>\n",
              "    </tr>\n",
              "    <tr>\n",
              "      <th>fractal dimension error</th>\n",
              "      <td>569.0</td>\n",
              "      <td>0.003795</td>\n",
              "      <td>0.002646</td>\n",
              "      <td>0.000895</td>\n",
              "      <td>0.002248</td>\n",
              "      <td>0.003187</td>\n",
              "      <td>0.004558</td>\n",
              "      <td>0.02984</td>\n",
              "    </tr>\n",
              "    <tr>\n",
              "      <th>worst radius</th>\n",
              "      <td>569.0</td>\n",
              "      <td>16.269190</td>\n",
              "      <td>4.833242</td>\n",
              "      <td>7.930000</td>\n",
              "      <td>13.010000</td>\n",
              "      <td>14.970000</td>\n",
              "      <td>18.790000</td>\n",
              "      <td>36.04000</td>\n",
              "    </tr>\n",
              "    <tr>\n",
              "      <th>worst texture</th>\n",
              "      <td>569.0</td>\n",
              "      <td>25.677223</td>\n",
              "      <td>6.146258</td>\n",
              "      <td>12.020000</td>\n",
              "      <td>21.080000</td>\n",
              "      <td>25.410000</td>\n",
              "      <td>29.720000</td>\n",
              "      <td>49.54000</td>\n",
              "    </tr>\n",
              "    <tr>\n",
              "      <th>worst perimeter</th>\n",
              "      <td>569.0</td>\n",
              "      <td>107.261213</td>\n",
              "      <td>33.602542</td>\n",
              "      <td>50.410000</td>\n",
              "      <td>84.110000</td>\n",
              "      <td>97.660000</td>\n",
              "      <td>125.400000</td>\n",
              "      <td>251.20000</td>\n",
              "    </tr>\n",
              "    <tr>\n",
              "      <th>worst area</th>\n",
              "      <td>569.0</td>\n",
              "      <td>880.583128</td>\n",
              "      <td>569.356993</td>\n",
              "      <td>185.200000</td>\n",
              "      <td>515.300000</td>\n",
              "      <td>686.500000</td>\n",
              "      <td>1084.000000</td>\n",
              "      <td>4254.00000</td>\n",
              "    </tr>\n",
              "    <tr>\n",
              "      <th>worst smoothness</th>\n",
              "      <td>569.0</td>\n",
              "      <td>0.132369</td>\n",
              "      <td>0.022832</td>\n",
              "      <td>0.071170</td>\n",
              "      <td>0.116600</td>\n",
              "      <td>0.131300</td>\n",
              "      <td>0.146000</td>\n",
              "      <td>0.22260</td>\n",
              "    </tr>\n",
              "    <tr>\n",
              "      <th>worst compactness</th>\n",
              "      <td>569.0</td>\n",
              "      <td>0.254265</td>\n",
              "      <td>0.157336</td>\n",
              "      <td>0.027290</td>\n",
              "      <td>0.147200</td>\n",
              "      <td>0.211900</td>\n",
              "      <td>0.339100</td>\n",
              "      <td>1.05800</td>\n",
              "    </tr>\n",
              "    <tr>\n",
              "      <th>worst concavity</th>\n",
              "      <td>569.0</td>\n",
              "      <td>0.272188</td>\n",
              "      <td>0.208624</td>\n",
              "      <td>0.000000</td>\n",
              "      <td>0.114500</td>\n",
              "      <td>0.226700</td>\n",
              "      <td>0.382900</td>\n",
              "      <td>1.25200</td>\n",
              "    </tr>\n",
              "    <tr>\n",
              "      <th>worst concave points</th>\n",
              "      <td>569.0</td>\n",
              "      <td>0.114606</td>\n",
              "      <td>0.065732</td>\n",
              "      <td>0.000000</td>\n",
              "      <td>0.064930</td>\n",
              "      <td>0.099930</td>\n",
              "      <td>0.161400</td>\n",
              "      <td>0.29100</td>\n",
              "    </tr>\n",
              "    <tr>\n",
              "      <th>worst symmetry</th>\n",
              "      <td>569.0</td>\n",
              "      <td>0.290076</td>\n",
              "      <td>0.061867</td>\n",
              "      <td>0.156500</td>\n",
              "      <td>0.250400</td>\n",
              "      <td>0.282200</td>\n",
              "      <td>0.317900</td>\n",
              "      <td>0.66380</td>\n",
              "    </tr>\n",
              "    <tr>\n",
              "      <th>worst fractal dimension</th>\n",
              "      <td>569.0</td>\n",
              "      <td>0.083946</td>\n",
              "      <td>0.018061</td>\n",
              "      <td>0.055040</td>\n",
              "      <td>0.071460</td>\n",
              "      <td>0.080040</td>\n",
              "      <td>0.092080</td>\n",
              "      <td>0.20750</td>\n",
              "    </tr>\n",
              "    <tr>\n",
              "      <th>target</th>\n",
              "      <td>569.0</td>\n",
              "      <td>0.627417</td>\n",
              "      <td>0.483918</td>\n",
              "      <td>0.000000</td>\n",
              "      <td>0.000000</td>\n",
              "      <td>1.000000</td>\n",
              "      <td>1.000000</td>\n",
              "      <td>1.00000</td>\n",
              "    </tr>\n",
              "  </tbody>\n",
              "</table>\n",
              "</div>\n",
              "    <div class=\"colab-df-buttons\">\n",
              "\n",
              "  <div class=\"colab-df-container\">\n",
              "    <button class=\"colab-df-convert\" onclick=\"convertToInteractive('df-b16a582e-2b73-4a78-b6f2-bb3ac61464c8')\"\n",
              "            title=\"Convert this dataframe to an interactive table.\"\n",
              "            style=\"display:none;\">\n",
              "\n",
              "  <svg xmlns=\"http://www.w3.org/2000/svg\" height=\"24px\" viewBox=\"0 -960 960 960\">\n",
              "    <path d=\"M120-120v-720h720v720H120Zm60-500h600v-160H180v160Zm220 220h160v-160H400v160Zm0 220h160v-160H400v160ZM180-400h160v-160H180v160Zm440 0h160v-160H620v160ZM180-180h160v-160H180v160Zm440 0h160v-160H620v160Z\"/>\n",
              "  </svg>\n",
              "    </button>\n",
              "\n",
              "  <style>\n",
              "    .colab-df-container {\n",
              "      display:flex;\n",
              "      gap: 12px;\n",
              "    }\n",
              "\n",
              "    .colab-df-convert {\n",
              "      background-color: #E8F0FE;\n",
              "      border: none;\n",
              "      border-radius: 50%;\n",
              "      cursor: pointer;\n",
              "      display: none;\n",
              "      fill: #1967D2;\n",
              "      height: 32px;\n",
              "      padding: 0 0 0 0;\n",
              "      width: 32px;\n",
              "    }\n",
              "\n",
              "    .colab-df-convert:hover {\n",
              "      background-color: #E2EBFA;\n",
              "      box-shadow: 0px 1px 2px rgba(60, 64, 67, 0.3), 0px 1px 3px 1px rgba(60, 64, 67, 0.15);\n",
              "      fill: #174EA6;\n",
              "    }\n",
              "\n",
              "    .colab-df-buttons div {\n",
              "      margin-bottom: 4px;\n",
              "    }\n",
              "\n",
              "    [theme=dark] .colab-df-convert {\n",
              "      background-color: #3B4455;\n",
              "      fill: #D2E3FC;\n",
              "    }\n",
              "\n",
              "    [theme=dark] .colab-df-convert:hover {\n",
              "      background-color: #434B5C;\n",
              "      box-shadow: 0px 1px 3px 1px rgba(0, 0, 0, 0.15);\n",
              "      filter: drop-shadow(0px 1px 2px rgba(0, 0, 0, 0.3));\n",
              "      fill: #FFFFFF;\n",
              "    }\n",
              "  </style>\n",
              "\n",
              "    <script>\n",
              "      const buttonEl =\n",
              "        document.querySelector('#df-b16a582e-2b73-4a78-b6f2-bb3ac61464c8 button.colab-df-convert');\n",
              "      buttonEl.style.display =\n",
              "        google.colab.kernel.accessAllowed ? 'block' : 'none';\n",
              "\n",
              "      async function convertToInteractive(key) {\n",
              "        const element = document.querySelector('#df-b16a582e-2b73-4a78-b6f2-bb3ac61464c8');\n",
              "        const dataTable =\n",
              "          await google.colab.kernel.invokeFunction('convertToInteractive',\n",
              "                                                    [key], {});\n",
              "        if (!dataTable) return;\n",
              "\n",
              "        const docLinkHtml = 'Like what you see? Visit the ' +\n",
              "          '<a target=\"_blank\" href=https://colab.research.google.com/notebooks/data_table.ipynb>data table notebook</a>'\n",
              "          + ' to learn more about interactive tables.';\n",
              "        element.innerHTML = '';\n",
              "        dataTable['output_type'] = 'display_data';\n",
              "        await google.colab.output.renderOutput(dataTable, element);\n",
              "        const docLink = document.createElement('div');\n",
              "        docLink.innerHTML = docLinkHtml;\n",
              "        element.appendChild(docLink);\n",
              "      }\n",
              "    </script>\n",
              "  </div>\n",
              "\n",
              "\n",
              "<div id=\"df-18287c01-661d-4736-9a52-00afa28e634d\">\n",
              "  <button class=\"colab-df-quickchart\" onclick=\"quickchart('df-18287c01-661d-4736-9a52-00afa28e634d')\"\n",
              "            title=\"Suggest charts\"\n",
              "            style=\"display:none;\">\n",
              "\n",
              "<svg xmlns=\"http://www.w3.org/2000/svg\" height=\"24px\"viewBox=\"0 0 24 24\"\n",
              "     width=\"24px\">\n",
              "    <g>\n",
              "        <path d=\"M19 3H5c-1.1 0-2 .9-2 2v14c0 1.1.9 2 2 2h14c1.1 0 2-.9 2-2V5c0-1.1-.9-2-2-2zM9 17H7v-7h2v7zm4 0h-2V7h2v10zm4 0h-2v-4h2v4z\"/>\n",
              "    </g>\n",
              "</svg>\n",
              "  </button>\n",
              "\n",
              "<style>\n",
              "  .colab-df-quickchart {\n",
              "      --bg-color: #E8F0FE;\n",
              "      --fill-color: #1967D2;\n",
              "      --hover-bg-color: #E2EBFA;\n",
              "      --hover-fill-color: #174EA6;\n",
              "      --disabled-fill-color: #AAA;\n",
              "      --disabled-bg-color: #DDD;\n",
              "  }\n",
              "\n",
              "  [theme=dark] .colab-df-quickchart {\n",
              "      --bg-color: #3B4455;\n",
              "      --fill-color: #D2E3FC;\n",
              "      --hover-bg-color: #434B5C;\n",
              "      --hover-fill-color: #FFFFFF;\n",
              "      --disabled-bg-color: #3B4455;\n",
              "      --disabled-fill-color: #666;\n",
              "  }\n",
              "\n",
              "  .colab-df-quickchart {\n",
              "    background-color: var(--bg-color);\n",
              "    border: none;\n",
              "    border-radius: 50%;\n",
              "    cursor: pointer;\n",
              "    display: none;\n",
              "    fill: var(--fill-color);\n",
              "    height: 32px;\n",
              "    padding: 0;\n",
              "    width: 32px;\n",
              "  }\n",
              "\n",
              "  .colab-df-quickchart:hover {\n",
              "    background-color: var(--hover-bg-color);\n",
              "    box-shadow: 0 1px 2px rgba(60, 64, 67, 0.3), 0 1px 3px 1px rgba(60, 64, 67, 0.15);\n",
              "    fill: var(--button-hover-fill-color);\n",
              "  }\n",
              "\n",
              "  .colab-df-quickchart-complete:disabled,\n",
              "  .colab-df-quickchart-complete:disabled:hover {\n",
              "    background-color: var(--disabled-bg-color);\n",
              "    fill: var(--disabled-fill-color);\n",
              "    box-shadow: none;\n",
              "  }\n",
              "\n",
              "  .colab-df-spinner {\n",
              "    border: 2px solid var(--fill-color);\n",
              "    border-color: transparent;\n",
              "    border-bottom-color: var(--fill-color);\n",
              "    animation:\n",
              "      spin 1s steps(1) infinite;\n",
              "  }\n",
              "\n",
              "  @keyframes spin {\n",
              "    0% {\n",
              "      border-color: transparent;\n",
              "      border-bottom-color: var(--fill-color);\n",
              "      border-left-color: var(--fill-color);\n",
              "    }\n",
              "    20% {\n",
              "      border-color: transparent;\n",
              "      border-left-color: var(--fill-color);\n",
              "      border-top-color: var(--fill-color);\n",
              "    }\n",
              "    30% {\n",
              "      border-color: transparent;\n",
              "      border-left-color: var(--fill-color);\n",
              "      border-top-color: var(--fill-color);\n",
              "      border-right-color: var(--fill-color);\n",
              "    }\n",
              "    40% {\n",
              "      border-color: transparent;\n",
              "      border-right-color: var(--fill-color);\n",
              "      border-top-color: var(--fill-color);\n",
              "    }\n",
              "    60% {\n",
              "      border-color: transparent;\n",
              "      border-right-color: var(--fill-color);\n",
              "    }\n",
              "    80% {\n",
              "      border-color: transparent;\n",
              "      border-right-color: var(--fill-color);\n",
              "      border-bottom-color: var(--fill-color);\n",
              "    }\n",
              "    90% {\n",
              "      border-color: transparent;\n",
              "      border-bottom-color: var(--fill-color);\n",
              "    }\n",
              "  }\n",
              "</style>\n",
              "\n",
              "  <script>\n",
              "    async function quickchart(key) {\n",
              "      const quickchartButtonEl =\n",
              "        document.querySelector('#' + key + ' button');\n",
              "      quickchartButtonEl.disabled = true;  // To prevent multiple clicks.\n",
              "      quickchartButtonEl.classList.add('colab-df-spinner');\n",
              "      try {\n",
              "        const charts = await google.colab.kernel.invokeFunction(\n",
              "            'suggestCharts', [key], {});\n",
              "      } catch (error) {\n",
              "        console.error('Error during call to suggestCharts:', error);\n",
              "      }\n",
              "      quickchartButtonEl.classList.remove('colab-df-spinner');\n",
              "      quickchartButtonEl.classList.add('colab-df-quickchart-complete');\n",
              "    }\n",
              "    (() => {\n",
              "      let quickchartButtonEl =\n",
              "        document.querySelector('#df-18287c01-661d-4736-9a52-00afa28e634d button');\n",
              "      quickchartButtonEl.style.display =\n",
              "        google.colab.kernel.accessAllowed ? 'block' : 'none';\n",
              "    })();\n",
              "  </script>\n",
              "</div>\n",
              "    </div>\n",
              "  </div>\n"
            ],
            "application/vnd.google.colaboratory.intrinsic+json": {
              "type": "dataframe",
              "summary": "{\n  \"name\": \"df\",\n  \"rows\": 31,\n  \"fields\": [\n    {\n      \"column\": \"count\",\n      \"properties\": {\n        \"dtype\": \"number\",\n        \"std\": 0.0,\n        \"min\": 569.0,\n        \"max\": 569.0,\n        \"num_unique_values\": 1,\n        \"samples\": [\n          569.0\n        ],\n        \"semantic_type\": \"\",\n        \"description\": \"\"\n      }\n    },\n    {\n      \"column\": \"mean\",\n      \"properties\": {\n        \"dtype\": \"number\",\n        \"std\": 192.88346341693966,\n        \"min\": 0.0037949038664323374,\n        \"max\": 880.5831282952548,\n        \"num_unique_values\": 31,\n        \"samples\": [\n          0.11460622319859401\n        ],\n        \"semantic_type\": \"\",\n        \"description\": \"\"\n      }\n    },\n    {\n      \"column\": \"std\",\n      \"properties\": {\n        \"dtype\": \"number\",\n        \"std\": 117.82656000385128,\n        \"min\": 0.002646070967089195,\n        \"max\": 569.356992669949,\n        \"num_unique_values\": 31,\n        \"samples\": [\n          0.06573234119594207\n        ],\n        \"semantic_type\": \"\",\n        \"description\": \"\"\n      }\n    },\n    {\n      \"column\": \"min\",\n      \"properties\": {\n        \"dtype\": \"number\",\n        \"std\": 41.90403791908646,\n        \"min\": 0.0,\n        \"max\": 185.2,\n        \"num_unique_values\": 25,\n        \"samples\": [\n          0.04996\n        ],\n        \"semantic_type\": \"\",\n        \"description\": \"\"\n      }\n    },\n    {\n      \"column\": \"25%\",\n      \"properties\": {\n        \"dtype\": \"number\",\n        \"std\": 117.10895107039885,\n        \"min\": 0.0,\n        \"max\": 515.3,\n        \"num_unique_values\": 31,\n        \"samples\": [\n          0.06493\n        ],\n        \"semantic_type\": \"\",\n        \"description\": \"\"\n      }\n    },\n    {\n      \"column\": \"50%\",\n      \"properties\": {\n        \"dtype\": \"number\",\n        \"std\": 154.80772967717525,\n        \"min\": 0.003187,\n        \"max\": 686.5,\n        \"num_unique_values\": 30,\n        \"samples\": [\n          0.2822\n        ],\n        \"semantic_type\": \"\",\n        \"description\": \"\"\n      }\n    },\n    {\n      \"column\": \"75%\",\n      \"properties\": {\n        \"dtype\": \"number\",\n        \"std\": 235.01535058529484,\n        \"min\": 0.004558,\n        \"max\": 1084.0,\n        \"num_unique_values\": 31,\n        \"samples\": [\n          0.1614\n        ],\n        \"semantic_type\": \"\",\n        \"description\": \"\"\n      }\n    },\n    {\n      \"column\": \"max\",\n      \"properties\": {\n        \"dtype\": \"number\",\n        \"std\": 870.3246450488887,\n        \"min\": 0.02984,\n        \"max\": 4254.0,\n        \"num_unique_values\": 31,\n        \"samples\": [\n          0.291\n        ],\n        \"semantic_type\": \"\",\n        \"description\": \"\"\n      }\n    }\n  ]\n}"
            }
          },
          "metadata": {},
          "execution_count": 6
        }
      ],
      "source": [
        "df.describe().T"
      ]
    },
    {
      "cell_type": "code",
      "execution_count": 7,
      "metadata": {
        "colab": {
          "base_uri": "https://localhost:8080/"
        },
        "id": "IMyZYL2pgnR1",
        "outputId": "6caa1457-a44f-4797-f70d-355499200307"
      },
      "outputs": [
        {
          "output_type": "execute_result",
          "data": {
            "text/plain": [
              "mean radius                0\n",
              "mean texture               0\n",
              "mean perimeter             0\n",
              "mean area                  0\n",
              "mean smoothness            0\n",
              "mean compactness           0\n",
              "mean concavity             0\n",
              "mean concave points        0\n",
              "mean symmetry              0\n",
              "mean fractal dimension     0\n",
              "radius error               0\n",
              "texture error              0\n",
              "perimeter error            0\n",
              "area error                 0\n",
              "smoothness error           0\n",
              "compactness error          0\n",
              "concavity error            0\n",
              "concave points error       0\n",
              "symmetry error             0\n",
              "fractal dimension error    0\n",
              "worst radius               0\n",
              "worst texture              0\n",
              "worst perimeter            0\n",
              "worst area                 0\n",
              "worst smoothness           0\n",
              "worst compactness          0\n",
              "worst concavity            0\n",
              "worst concave points       0\n",
              "worst symmetry             0\n",
              "worst fractal dimension    0\n",
              "target                     0\n",
              "dtype: int64"
            ]
          },
          "metadata": {},
          "execution_count": 7
        }
      ],
      "source": [
        "# Observamos si hay algun valor nulo\n",
        "\n",
        "df.isna().sum()"
      ]
    },
    {
      "cell_type": "code",
      "execution_count": 8,
      "metadata": {
        "colab": {
          "base_uri": "https://localhost:8080/",
          "height": 908
        },
        "id": "LYV32fa5g-NH",
        "outputId": "0a44e843-3f83-4baa-b030-3b97d39c75ec"
      },
      "outputs": [
        {
          "output_type": "display_data",
          "data": {
            "text/plain": [
              "<Figure size 2000x1500 with 30 Axes>"
            ],
            "image/png": "[encoded data removed]"
          },
          "metadata": {}
        }
      ],
      "source": [
        "# Obtener nombres de las características\n",
        "feature_names = cancer['feature_names']\n",
        "\n",
        "# Trazar histogramas de características\n",
        "plt.figure(figsize=(20, 15))\n",
        "for i, feature in enumerate(feature_names):\n",
        "    plt.subplot(5, 6, i + 1)\n",
        "    plt.hist(df[feature], bins=20, color='blue', alpha=0.7)\n",
        "    plt.title(feature)\n",
        "\n",
        "plt.tight_layout()\n",
        "plt.show()"
      ]
    },
    {
      "cell_type": "code",
      "execution_count": 9,
      "metadata": {
        "id": "jdJoHee1g-Kg"
      },
      "outputs": [],
      "source": [
        "# Dividimos en train 75% - test 25%\n",
        "train, test = train_test_split(df, test_size=0.25)\n"
      ]
    },
    {
      "cell_type": "code",
      "execution_count": 10,
      "metadata": {
        "colab": {
          "base_uri": "https://localhost:8080/"
        },
        "id": "r2Jk7V2Cg-Fg",
        "outputId": "1ced988c-b766-4290-f43d-3c0284ff153b"
      },
      "outputs": [
        {
          "output_type": "execute_result",
          "data": {
            "text/plain": [
              "((426, 31), (143, 31))"
            ]
          },
          "metadata": {},
          "execution_count": 10
        }
      ],
      "source": [
        "train.shape, test.shape"
      ]
    },
    {
      "cell_type": "code",
      "execution_count": 11,
      "metadata": {
        "id": "v40oa_UGg-IP"
      },
      "outputs": [],
      "source": [
        "# Guardamos train y test en archivo csv\n",
        "train.to_csv('train.csv', index=False)\n",
        "test.to_csv('test.csv', index=False)"
      ]
    },
    {
      "cell_type": "code",
      "execution_count": 12,
      "metadata": {
        "id": "EKOz80_Ag-BR"
      },
      "outputs": [],
      "source": [
        "# Separamos el target de las features\n",
        "features = [x for x in list(train.columns) if x != 'target']\n",
        "x_raw = train[features]\n",
        "y_raw = train['target']\n",
        "\n",
        "x_train, x_test, y_train, y_test = train_test_split(x_raw, y_raw,\n",
        "                                                            test_size=.25,\n",
        "                                                            random_state=42,\n",
        "                                                            stratify=y_raw)"
      ]
    },
    {
      "cell_type": "code",
      "execution_count": 13,
      "metadata": {
        "id": "iXnMFWDZg98x"
      },
      "outputs": [],
      "source": [
        "# Configuramos el clasificador y escalamos los datos\n",
        "lr = LogisticRegression(C=1,\n",
        "                         class_weight='balanced',\n",
        "                         random_state=42)\n",
        "\n",
        "preprocessor = Pipeline(steps=[('scaler', StandardScaler())])\n",
        "\n",
        "model = Pipeline(steps=[('preprocessor', preprocessor),\n",
        "                           ('LogisticRegression', lr)])"
      ]
    },
    {
      "cell_type": "code",
      "execution_count": 14,
      "metadata": {
        "colab": {
          "base_uri": "https://localhost:8080/",
          "height": 151
        },
        "id": "X_nAptDWg96f",
        "outputId": "d963d8c6-79d9-4dbc-db43-dbbce2ff10e9"
      },
      "outputs": [
        {
          "output_type": "execute_result",
          "data": {
            "text/plain": [
              "Pipeline(steps=[('preprocessor',\n",
              "                 Pipeline(steps=[('scaler', StandardScaler())])),\n",
              "                ('LogisticRegression',\n",
              "                 LogisticRegression(C=1, class_weight='balanced',\n",
              "                                    random_state=42))])"
            ],
            "text/html": [
              "<style>#sk-container-id-1 {color: black;background-color: white;}#sk-container-id-1 pre{padding: 0;}#sk-container-id-1 div.sk-toggleable {background-color: white;}#sk-container-id-1 label.sk-toggleable__label {cursor: pointer;display: block;width: 100%;margin-bottom: 0;padding: 0.3em;box-sizing: border-box;text-align: center;}#sk-container-id-1 label.sk-toggleable__label-arrow:before {content: \"▸\";float: left;margin-right: 0.25em;color: #696969;}#sk-container-id-1 label.sk-toggleable__label-arrow:hover:before {color: black;}#sk-container-id-1 div.sk-estimator:hover label.sk-toggleable__label-arrow:before {color: black;}#sk-container-id-1 div.sk-toggleable__content {max-height: 0;max-width: 0;overflow: hidden;text-align: left;background-color: #f0f8ff;}#sk-container-id-1 div.sk-toggleable__content pre {margin: 0.2em;color: black;border-radius: 0.25em;background-color: #f0f8ff;}#sk-container-id-1 input.sk-toggleable__control:checked~div.sk-toggleable__content {max-height: 200px;max-width: 100%;overflow: auto;}#sk-container-id-1 input.sk-toggleable__control:checked~label.sk-toggleable__label-arrow:before {content: \"▾\";}#sk-container-id-1 div.sk-estimator input.sk-toggleable__control:checked~label.sk-toggleable__label {background-color: #d4ebff;}#sk-container-id-1 div.sk-label input.sk-toggleable__control:checked~label.sk-toggleable__label {background-color: #d4ebff;}#sk-container-id-1 input.sk-hidden--visually {border: 0;clip: rect(1px 1px 1px 1px);clip: rect(1px, 1px, 1px, 1px);height: 1px;margin: -1px;overflow: hidden;padding: 0;position: absolute;width: 1px;}#sk-container-id-1 div.sk-estimator {font-family: monospace;background-color: #f0f8ff;border: 1px dotted black;border-radius: 0.25em;box-sizing: border-box;margin-bottom: 0.5em;}#sk-container-id-1 div.sk-estimator:hover {background-color: #d4ebff;}#sk-container-id-1 div.sk-parallel-item::after {content: \"\";width: 100%;border-bottom: 1px solid gray;flex-grow: 1;}#sk-container-id-1 div.sk-label:hover label.sk-toggleable__label {background-color: #d4ebff;}#sk-container-id-1 div.sk-serial::before {content: \"\";position: absolute;border-left: 1px solid gray;box-sizing: border-box;top: 0;bottom: 0;left: 50%;z-index: 0;}#sk-container-id-1 div.sk-serial {display: flex;flex-direction: column;align-items: center;background-color: white;padding-right: 0.2em;padding-left: 0.2em;position: relative;}#sk-container-id-1 div.sk-item {position: relative;z-index: 1;}#sk-container-id-1 div.sk-parallel {display: flex;align-items: stretch;justify-content: center;background-color: white;position: relative;}#sk-container-id-1 div.sk-item::before, #sk-container-id-1 div.sk-parallel-item::before {content: \"\";position: absolute;border-left: 1px solid gray;box-sizing: border-box;top: 0;bottom: 0;left: 50%;z-index: -1;}#sk-container-id-1 div.sk-parallel-item {display: flex;flex-direction: column;z-index: 1;position: relative;background-color: white;}#sk-container-id-1 div.sk-parallel-item:first-child::after {align-self: flex-end;width: 50%;}#sk-container-id-1 div.sk-parallel-item:last-child::after {align-self: flex-start;width: 50%;}#sk-container-id-1 div.sk-parallel-item:only-child::after {width: 0;}#sk-container-id-1 div.sk-dashed-wrapped {border: 1px dashed gray;margin: 0 0.4em 0.5em 0.4em;box-sizing: border-box;padding-bottom: 0.4em;background-color: white;}#sk-container-id-1 div.sk-label label {font-family: monospace;font-weight: bold;display: inline-block;line-height: 1.2em;}#sk-container-id-1 div.sk-label-container {text-align: center;}#sk-container-id-1 div.sk-container {/* jupyter's `normalize.less` sets `[hidden] { display: none; }` but bootstrap.min.css set `[hidden] { display: none !important; }` so we also need the `!important` here to be able to override the default hidden behavior on the sphinx rendered scikit-learn.org. See: https://github.com/scikit-learn/scikit-learn/issues/21755 */display: inline-block !important;position: relative;}#sk-container-id-1 div.sk-text-repr-fallback {display: none;}</style><div id=\"sk-container-id-1\" class=\"sk-top-container\"><div class=\"sk-text-repr-fallback\"><pre>Pipeline(steps=[(&#x27;preprocessor&#x27;,\n",
              "                 Pipeline(steps=[(&#x27;scaler&#x27;, StandardScaler())])),\n",
              "                (&#x27;LogisticRegression&#x27;,\n",
              "                 LogisticRegression(C=1, class_weight=&#x27;balanced&#x27;,\n",
              "                                    random_state=42))])</pre><b>In a Jupyter environment, please rerun this cell to show the HTML representation or trust the notebook. <br />On GitHub, the HTML representation is unable to render, please try loading this page with nbviewer.org.</b></div><div class=\"sk-container\" hidden><div class=\"sk-item sk-dashed-wrapped\"><div class=\"sk-label-container\"><div class=\"sk-label sk-toggleable\"><input class=\"sk-toggleable__control sk-hidden--visually\" id=\"sk-estimator-id-1\" type=\"checkbox\" ><label for=\"sk-estimator-id-1\" class=\"sk-toggleable__label sk-toggleable__label-arrow\">Pipeline</label><div class=\"sk-toggleable__content\"><pre>Pipeline(steps=[(&#x27;preprocessor&#x27;,\n",
              "                 Pipeline(steps=[(&#x27;scaler&#x27;, StandardScaler())])),\n",
              "                (&#x27;LogisticRegression&#x27;,\n",
              "                 LogisticRegression(C=1, class_weight=&#x27;balanced&#x27;,\n",
              "                                    random_state=42))])</pre></div></div></div><div class=\"sk-serial\"><div class=\"sk-item\"><div class=\"sk-label-container\"><div class=\"sk-label sk-toggleable\"><input class=\"sk-toggleable__control sk-hidden--visually\" id=\"sk-estimator-id-2\" type=\"checkbox\" ><label for=\"sk-estimator-id-2\" class=\"sk-toggleable__label sk-toggleable__label-arrow\">preprocessor: Pipeline</label><div class=\"sk-toggleable__content\"><pre>Pipeline(steps=[(&#x27;scaler&#x27;, StandardScaler())])</pre></div></div></div><div class=\"sk-serial\"><div class=\"sk-item\"><div class=\"sk-estimator sk-toggleable\"><input class=\"sk-toggleable__control sk-hidden--visually\" id=\"sk-estimator-id-3\" type=\"checkbox\" ><label for=\"sk-estimator-id-3\" class=\"sk-toggleable__label sk-toggleable__label-arrow\">StandardScaler</label><div class=\"sk-toggleable__content\"><pre>StandardScaler()</pre></div></div></div></div></div><div class=\"sk-item\"><div class=\"sk-estimator sk-toggleable\"><input class=\"sk-toggleable__control sk-hidden--visually\" id=\"sk-estimator-id-4\" type=\"checkbox\" ><label for=\"sk-estimator-id-4\" class=\"sk-toggleable__label sk-toggleable__label-arrow\">LogisticRegression</label><div class=\"sk-toggleable__content\"><pre>LogisticRegression(C=1, class_weight=&#x27;balanced&#x27;, random_state=42)</pre></div></div></div></div></div></div></div>"
            ]
          },
          "metadata": {},
          "execution_count": 14
        }
      ],
      "source": [
        "# Entrenamos el modelo\n",
        "model.fit(x_train, y_train)"
      ]
    },
    {
      "cell_type": "code",
      "execution_count": 15,
      "metadata": {
        "colab": {
          "base_uri": "https://localhost:8080/"
        },
        "id": "9UbJWDd4mQbT",
        "outputId": "aab6d982-c3f9-494a-bd47-188284022d65"
      },
      "outputs": [
        {
          "output_type": "stream",
          "name": "stdout",
          "text": [
            "Accuracy train: 0.9968652037617555\n",
            "Precision train: 0.9852439024390243\n",
            "Recall train: 0.985\n"
          ]
        }
      ],
      "source": [
        "# Evaluamos el modelo y obtenemos las métricas\n",
        "accuracy_train = model.score(x_train, y_train)\n",
        "\n",
        "# Calculamos las métricas usando validación cruzada\n",
        "precision_train = cross_val_score(model, x_train, y_train, cv=5, scoring='precision')\n",
        "recall_train = cross_val_score(model, x_train, y_train, cv=5, scoring='recall')\n",
        "\n",
        "print('Accuracy train:', accuracy_train)\n",
        "print('Precision train:', precision_train.mean())\n",
        "print('Recall train:', recall_train.mean())"
      ]
    },
    {
      "cell_type": "code",
      "execution_count": 16,
      "metadata": {
        "colab": {
          "base_uri": "https://localhost:8080/"
        },
        "id": "neOKUw6LnxmP",
        "outputId": "2863cc3c-fe42-4035-ed08-290243060848"
      },
      "outputs": [
        {
          "output_type": "stream",
          "name": "stdout",
          "text": [
            "Accuracy test: 0.9626168224299065\n",
            "Precision: 0.9565217391304348\n",
            "Recall: 0.9850746268656716\n"
          ]
        }
      ],
      "source": [
        "# Evaluamos en test\n",
        "accuracy_test = model.score(x_test, y_test)\n",
        "\n",
        "# Predecimos en test\n",
        "y_pred = model.predict(x_test)\n",
        "\n",
        "# calculamos la precisión y recall en test\n",
        "precision_test = precision_score(y_test, y_pred)\n",
        "recall_test = recall_score(y_test, y_pred)\n",
        "\n",
        "print('Accuracy test:', accuracy_test)\n",
        "print('Precision:', precision_test)\n",
        "print('Recall:', recall_test)"
      ]
    },
    {
      "cell_type": "code",
      "execution_count": 17,
      "metadata": {
        "colab": {
          "base_uri": "https://localhost:8080/"
        },
        "id": "w2Qbfa_OkBPV",
        "outputId": "7d56557b-1b33-4e58-8e03-fe5fe2534f6b"
      },
      "outputs": [
        {
          "output_type": "execute_result",
          "data": {
            "text/plain": [
              "{'memory': None,\n",
              " 'steps': [('preprocessor', Pipeline(steps=[('scaler', StandardScaler())])),\n",
              "  ('LogisticRegression',\n",
              "   LogisticRegression(C=1, class_weight='balanced', random_state=42))],\n",
              " 'verbose': False,\n",
              " 'preprocessor': Pipeline(steps=[('scaler', StandardScaler())]),\n",
              " 'LogisticRegression': LogisticRegression(C=1, class_weight='balanced', random_state=42),\n",
              " 'preprocessor__memory': None,\n",
              " 'preprocessor__steps': [('scaler', StandardScaler())],\n",
              " 'preprocessor__verbose': False,\n",
              " 'preprocessor__scaler': StandardScaler(),\n",
              " 'preprocessor__scaler__copy': True,\n",
              " 'preprocessor__scaler__with_mean': True,\n",
              " 'preprocessor__scaler__with_std': True,\n",
              " 'LogisticRegression__C': 1,\n",
              " 'LogisticRegression__class_weight': 'balanced',\n",
              " 'LogisticRegression__dual': False,\n",
              " 'LogisticRegression__fit_intercept': True,\n",
              " 'LogisticRegression__intercept_scaling': 1,\n",
              " 'LogisticRegression__l1_ratio': None,\n",
              " 'LogisticRegression__max_iter': 100,\n",
              " 'LogisticRegression__multi_class': 'auto',\n",
              " 'LogisticRegression__n_jobs': None,\n",
              " 'LogisticRegression__penalty': 'l2',\n",
              " 'LogisticRegression__random_state': 42,\n",
              " 'LogisticRegression__solver': 'lbfgs',\n",
              " 'LogisticRegression__tol': 0.0001,\n",
              " 'LogisticRegression__verbose': 0,\n",
              " 'LogisticRegression__warm_start': False}"
            ]
          },
          "metadata": {},
          "execution_count": 17
        }
      ],
      "source": [
        "# Obtenemos los parámetros\n",
        "model.get_params()"
      ]
    },
    {
      "cell_type": "markdown",
      "metadata": {
        "id": "W6kCD9svuKah"
      },
      "source": [
        "### Regristro y despliegue del modelo con MLflow"
      ]
    },
    {
      "cell_type": "code",
      "execution_count": 18,
      "metadata": {
        "id": "UoM-LztouOfC"
      },
      "outputs": [],
      "source": [
        "#! pip install pyngrok"
      ]
    },
    {
      "cell_type": "code",
      "execution_count": 19,
      "metadata": {
        "id": "xn-6VNLMr7lD",
        "outputId": "2990780d-2e9d-4fd1-adbf-29543f2a4ad4",
        "colab": {
          "base_uri": "https://localhost:8080/"
        }
      },
      "outputs": [
        {
          "output_type": "stream",
          "name": "stdout",
          "text": [
            "El tracking UI de MLflow:\n",
            "file:///content/mlruns\n"
          ]
        },
        {
          "output_type": "stream",
          "name": "stderr",
          "text": [
            "/usr/local/lib/python3.10/dist-packages/_distutils_hack/__init__.py:33: UserWarning: Setuptools is replacing distutils.\n",
            "  warnings.warn(\"Setuptools is replacing distutils.\")\n"
          ]
        }
      ],
      "source": [
        "\n",
        "# Iniciar un nuevo run de MLflow\n",
        "with mlflow.start_run(run_name='Despliegue de Modelo ML'):\n",
        "    # Registrar métricas y parámetros en MLflow\n",
        "    mlflow.sklearn.log_model(model, 'lr_model')\n",
        "    mlflow.log_metric('accuracy_test', accuracy_test)\n",
        "    mlflow.log_metric('precision_test', precision_test)\n",
        "    mlflow.log_metric('recall_test', recall_test)\n",
        "    mlflow.log_param('C', 1.0)\n",
        "\n",
        "# Imprimir la URL de MLflow UI\n",
        "print('El tracking UI de MLflow:')\n",
        "print(mlflow.get_tracking_uri())"
      ]
    },
    {
      "cell_type": "markdown",
      "metadata": {
        "id": "hbR89Fver7lD"
      },
      "source": [
        "![image.png](attachment:image.png)![Captura de pantalla_5-4-2024_142616_localhost.jpeg](data:image/jpeg;base64,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)"
      ]
    },
    {
      "cell_type": "markdown",
      "source": [
        "# REALIZO EL TRABAJO DESDE LOCAL CON VISUAL STUDIO CODE YA QUE CON NGROK ME HA DADO BASTANTES PROBLEMAS DICIENDO QUE EL PUERTO 5000 NO EXISTE. LAMENTO NO HABER PUESTO UN PANTALLAZO DEL ERROR, PERO SI HE REALIZADO LA EJECUCION DEL MODELO Y COMO SE OBSERVA EN LA FOTO, SE VEN LAS METRICAS, EL PARÁMETRO Y EL MODELO LOGEADO."
      ],
      "metadata": {
        "id": "LA-9MW-4VsPR"
      }
    },
    {
      "cell_type": "markdown",
      "metadata": {
        "id": "Cj8bcxFX85UO"
      },
      "source": [
        "# Práctica Final: detección de mensajes troll\n",
        "\n",
        "\n",
        "\n",
        "En los últimos años Twitch se ha consolidado como uno de los principales medios de comunicación especialmente para las generaciones más jóvenes.\n",
        "\n",
        "Al tratarse de una plataforma participativa en la que los usuarios pueden poner comentarios durante y posteriormente a las emisiones. Entre estos comentarios han aparecido como siempre comentarios ofensivos.\n",
        "\n",
        "En esta práctica construiremos una Inteligencia Artificial capaz de clasificar esos mensajes troll.\n",
        "\n",
        "Durante la práctica entrenaremos el modelo de Deep Learning y lo desplegaremos para inferencia en batch, la más habitual actualmente dentro de la industria:"
      ]
    },
    {
      "cell_type": "markdown",
      "metadata": {
        "id": "AI5vlvwU9FAv"
      },
      "source": [
        "## Teoría\n",
        "\n",
        "**1. ¿Qué es Apache Beam?**\n",
        "\n",
        "Apache Beam es un framework de trabajo que permite definir pipelines de procesado de datos enfocadas a la paralelización de procesos.\n",
        "\n",
        "Beam es una abstracción por lo que los detalles de implementación son gestionados por los motores de ejecución (Flink, DataFlow...)\n",
        "\n",
        "Es un framework compatible con distintos lenguajes de programación como Java, Python o Go.\n",
        "\n",
        "**2. ¿Cuáles son las diferentes formas de desplegar un modelo?**\n",
        "\n",
        "Distinguimos cuatro opciones:\n",
        "\n",
        "* Despligue en Batch. Desplegamos el modelo para hacer predicciones de grandes cantidades de datos en un momento puntual.\n",
        "\n",
        "* Despligue online. Permite la disponibilización del modelo a demanda por el ususario de manera que se pueden realizar predicciones mediante llamadas a APIs.\n",
        "\n",
        "* Despliegue en streaming Despligue pensando en la recepción continua de datos de manera que nuestro servidor es capaz de procesar un flujo continuo e ininterrumpido de datos en tiempo real.\n",
        "\n",
        "* ML Automatizado. Es el estado más avanzado en el desarrollo de MLOPS en el que el modelo es monitoeado y reentrenado de manera automática.\n",
        "\n",
        "**3. ¿Cuál es la principal diferencia entre la inferencia en batch y la inferencia en streaming?**\n",
        "\n",
        "La inferencia en batch procesa grandes cantidades de datos en momentos puntuales y normalmente programados de antemano frente al procesamiento en streming cuya infrastructura está diseñada para estar constantemente en funcionamiento emitiendo predicciones de manera continua y en tiempo real (o casi).\n",
        "\n"
      ]
    },
    {
      "cell_type": "markdown",
      "metadata": {
        "id": "hgE9XB8ACVmQ"
      },
      "source": [
        "# Configuración de nuestro proyecto en GCP\n"
      ]
    },
    {
      "cell_type": "code",
      "execution_count": 20,
      "metadata": {
        "id": "zAorVw7RCT9C",
        "colab": {
          "base_uri": "https://localhost:8080/"
        },
        "outputId": "c70680d9-d505-4b47-bcab-e075ce848917"
      },
      "outputs": [
        {
          "output_type": "stream",
          "name": "stdout",
          "text": [
            "Updated property [core/project].\n"
          ]
        }
      ],
      "source": [
        "PROJECT_ID = \"imp-algo-jcg\" #@param {type:\"string\"}\n",
        "! gcloud config set project $PROJECT_ID"
      ]
    },
    {
      "cell_type": "code",
      "execution_count": 21,
      "metadata": {
        "id": "hbAl8pSkCXCm"
      },
      "outputs": [],
      "source": [
        "\n",
        "import sys\n",
        "\n",
        "# If you are running this notebook in Colab, run this cell and follow the\n",
        "# instructions to authenticate your GCP account. This provides access to your\n",
        "# Cloud Storage bucket and lets you submit training jobs and prediction\n",
        "# requests.\n",
        "\n",
        "if 'google.colab' in sys.modules:\n",
        "  from google.colab import auth as google_auth\n",
        "  google_auth.authenticate_user()\n",
        "\n",
        "# If you are running this notebook locally, replace the string below with the\n",
        "# path to your service account key and run this cell to authenticate your GCP\n",
        "# account.\n",
        "else:\n",
        "  %env GOOGLE_APPLICATION_CREDENTIALS ''"
      ]
    },
    {
      "cell_type": "markdown",
      "metadata": {
        "id": "p5Xoej7vH0X-"
      },
      "source": [
        "Creamos el bucket mediante la consola y una vez creado lo indicamos en la variable:"
      ]
    },
    {
      "cell_type": "code",
      "execution_count": 22,
      "metadata": {
        "id": "n6Zpx14FCfXy"
      },
      "outputs": [],
      "source": [
        "BUCKET_NAME = \"imp-algo-jcg\" #@param {type:\"string\"}\n",
        "REGION = \"europe-west1\" #@param {type:\"string\"}"
      ]
    },
    {
      "cell_type": "code",
      "execution_count": 23,
      "metadata": {
        "id": "lE4V-Xt0ChSb",
        "colab": {
          "base_uri": "https://localhost:8080/"
        },
        "outputId": "a59e7f93-71c9-45fa-9acc-51c5c0712eab"
      },
      "outputs": [
        {
          "output_type": "stream",
          "name": "stdout",
          "text": [
            "Creating gs://imp-algo-jcg/...\n",
            "ServiceException: 409 A Cloud Storage bucket named 'imp-algo-jcg' already exists. Try another name. Bucket names must be globally unique across all Google Cloud projects, including those outside of your organization.\n"
          ]
        }
      ],
      "source": [
        "! gsutil mb -l $REGION gs://$BUCKET_NAME"
      ]
    },
    {
      "cell_type": "markdown",
      "metadata": {
        "id": "3D8Qw14y_nRa"
      },
      "source": [
        "# Entrenamiento e inferencia en Batch\n",
        "\n",
        "## Preparación\n",
        "\n",
        "Para esta primera parte se va a utilizar [Tweets Dataset for Detection of Cyber-Trolls](https://www.kaggle.com/dataturks/dataset-for-detection-of-cybertrolls). El objetivo es desarrollar un clasificador binario para detectar si el mensaje recibido es troll (1) o no (0). **Las métricas obtenidas del entrenamiento y la inferencia no se tendrán en cuenta para la evaluación de la práctica, la importancia está en la arquitectura de la solución**, es decir, lo importante no es que nuestro modelo detecte correctamente los tweets de trolls si no que funcione y sea capaz de hacer inferencias.\n"
      ]
    },
    {
      "cell_type": "markdown",
      "metadata": {
        "id": "qM_dh-471gIq"
      },
      "source": [
        "A continuación, se van a subir los datos de entrenamiento al bucket del proyecto que se haya creado. **Importante:** crea el bucket en una única región. Os dejo disponibilizado el dataset en un bucket de acceso público:"
      ]
    },
    {
      "cell_type": "code",
      "execution_count": 24,
      "metadata": {
        "id": "Sqp4L_nmUjAc",
        "colab": {
          "base_uri": "https://localhost:8080/"
        },
        "outputId": "0598337b-f076-495c-e793-68b0044e7847"
      },
      "outputs": [
        {
          "output_type": "stream",
          "name": "stdout",
          "text": [
            "Requirement already satisfied: gdown in /usr/local/lib/python3.10/dist-packages (4.7.3)\n",
            "Requirement already satisfied: filelock in /usr/local/lib/python3.10/dist-packages (from gdown) (3.13.3)\n",
            "Requirement already satisfied: requests[socks] in /usr/local/lib/python3.10/dist-packages (from gdown) (2.31.0)\n",
            "Requirement already satisfied: six in /usr/local/lib/python3.10/dist-packages (from gdown) (1.16.0)\n",
            "Requirement already satisfied: tqdm in /usr/local/lib/python3.10/dist-packages (from gdown) (4.66.2)\n",
            "Requirement already satisfied: beautifulsoup4 in /usr/local/lib/python3.10/dist-packages (from gdown) (4.12.3)\n",
            "Requirement already satisfied: soupsieve>1.2 in /usr/local/lib/python3.10/dist-packages (from beautifulsoup4->gdown) (2.5)\n",
            "Requirement already satisfied: charset-normalizer<4,>=2 in /usr/local/lib/python3.10/dist-packages (from requests[socks]->gdown) (3.3.2)\n",
            "Requirement already satisfied: idna<4,>=2.5 in /usr/local/lib/python3.10/dist-packages (from requests[socks]->gdown) (3.6)\n",
            "Requirement already satisfied: urllib3<3,>=1.21.1 in /usr/local/lib/python3.10/dist-packages (from requests[socks]->gdown) (2.0.7)\n",
            "Requirement already satisfied: certifi>=2017.4.17 in /usr/local/lib/python3.10/dist-packages (from requests[socks]->gdown) (2024.2.2)\n",
            "Requirement already satisfied: PySocks!=1.5.7,>=1.5.6 in /usr/local/lib/python3.10/dist-packages (from requests[socks]->gdown) (1.7.1)\n",
            "Downloading...\n",
            "From: https://drive.google.com/uc?id=1dTaKofC9ZcMWa5cVtGLDFkEnbc4hiPJr\n",
            "To: /content/dataset-cybertrolls.json\n",
            "100% 2.76M/2.76M [00:00<00:00, 130MB/s]\n"
          ]
        }
      ],
      "source": [
        "%pip install gdown\n",
        "! gdown \"1dTaKofC9ZcMWa5cVtGLDFkEnbc4hiPJr\""
      ]
    },
    {
      "cell_type": "markdown",
      "metadata": {
        "id": "vCQQ9j2I11tg"
      },
      "source": [
        "Ahora se crea el directorio dónde vas a desarrollar esta primera parte de la práctica."
      ]
    },
    {
      "cell_type": "code",
      "source": [
        "# Crear el directorio donde se almacenarán los datos\n",
        "!mkdir /content/dataset-cybertrolls"
      ],
      "metadata": {
        "id": "nzKsOQ_w3AIu",
        "colab": {
          "base_uri": "https://localhost:8080/"
        },
        "outputId": "3e84b028-0db5-4e54-e625-11faf457c998"
      },
      "execution_count": 25,
      "outputs": [
        {
          "output_type": "stream",
          "name": "stdout",
          "text": [
            "mkdir: cannot create directory ‘/content/dataset-cybertrolls’: File exists\n"
          ]
        }
      ]
    },
    {
      "cell_type": "markdown",
      "metadata": {
        "id": "nyK51quU1_oi"
      },
      "source": [
        "Se establece el directorio de trabajo que hemos creado."
      ]
    },
    {
      "cell_type": "code",
      "execution_count": 26,
      "metadata": {
        "id": "s7ybSaotRwkP"
      },
      "outputs": [],
      "source": [
        "# Establecer el directorio de trabajo\n",
        "import os\n",
        "os.chdir(\"dataset-cybertrolls\")"
      ]
    },
    {
      "cell_type": "markdown",
      "metadata": {
        "id": "4NSd4bAo2aj_"
      },
      "source": [
        "Ahora se descargarán los datos en el workspace de Colab para trabajar en local."
      ]
    },
    {
      "cell_type": "code",
      "execution_count": 27,
      "metadata": {
        "id": "qOmUJSg1JCgg"
      },
      "outputs": [],
      "source": [
        "# Mover el archivo descargado al directorio creado\n",
        "!mv \"/content/dataset-cybertrolls.json\" ."
      ]
    },
    {
      "cell_type": "code",
      "source": [
        "!ls"
      ],
      "metadata": {
        "colab": {
          "base_uri": "https://localhost:8080/"
        },
        "id": "7eHFyaoT_1Kz",
        "outputId": "63240687-e72a-4127-d48d-66628b879668"
      },
      "execution_count": 28,
      "outputs": [
        {
          "output_type": "stream",
          "name": "stdout",
          "text": [
            "cybertrolls_cleaned.csv   pipeline_model.py    __pycache__\t trainer\n",
            "cybertrolls_modified.csv  pipeline_predict.py  requirements.txt  transformed_data\n",
            "dataset-cybertrolls.json  pipeline_split.py    setup.py\n"
          ]
        }
      ]
    },
    {
      "cell_type": "markdown",
      "metadata": {
        "id": "eRoW6zyg2kEz"
      },
      "source": [
        "Se establecen las dependencias que se usarán en la práctica. Se pueden añadir y quitar las dependencias que no se usen o viceversa."
      ]
    },
    {
      "cell_type": "code",
      "execution_count": 29,
      "metadata": {
        "id": "9s0-8_JK_z2D",
        "colab": {
          "base_uri": "https://localhost:8080/"
        },
        "outputId": "535ec9ac-c02d-4272-c255-6d2dcdafc55f"
      },
      "outputs": [
        {
          "output_type": "stream",
          "name": "stdout",
          "text": [
            "Overwriting requirements.txt\n"
          ]
        }
      ],
      "source": [
        "%%writefile requirements.txt\n",
        "\n",
        "apache-beam[gcp]\n",
        "tensorflow\n",
        "gensim==3.6.0\n",
        "fsspec==0.8.4\n",
        "gcsfs==0.7.1\n",
        "numpy==1.20.0"
      ]
    },
    {
      "cell_type": "markdown",
      "metadata": {
        "id": "yIl8lrPp2x2j"
      },
      "source": [
        "Instalamos las dependencias. **No olvides reiniciar el entorno al instalar y establecer las variables y credenciales de GCP al arrancar.**"
      ]
    },
    {
      "cell_type": "code",
      "execution_count": 30,
      "metadata": {
        "id": "74dHb1iQ0UNN",
        "colab": {
          "base_uri": "https://localhost:8080/"
        },
        "outputId": "29b36919-ab50-4c97-b6ff-e64bff66fbc8"
      },
      "outputs": [
        {
          "output_type": "stream",
          "name": "stdout",
          "text": [
            "Requirement already satisfied: apache-beam[gcp] in /usr/local/lib/python3.10/dist-packages (from -r requirements.txt (line 2)) (2.55.0)\n",
            "Requirement already satisfied: tensorflow in /usr/local/lib/python3.10/dist-packages (from -r requirements.txt (line 3)) (2.15.0)\n",
            "Collecting gensim==3.6.0 (from -r requirements.txt (line 4))\n",
            "  Using cached gensim-3.6.0-cp310-cp310-linux_x86_64.whl\n",
            "Collecting fsspec==0.8.4 (from -r requirements.txt (line 5))\n",
            "  Using cached fsspec-0.8.4-py3-none-any.whl (91 kB)\n",
            "Collecting gcsfs==0.7.1 (from -r requirements.txt (line 6))\n",
            "  Using cached gcsfs-0.7.1-py2.py3-none-any.whl (20 kB)\n",
            "Collecting numpy==1.20.0 (from -r requirements.txt (line 7))\n",
            "  Using cached numpy-1.20.0.zip (8.0 MB)\n",
            "  Installing build dependencies ... \u001b[?25l\u001b[?25hdone\n",
            "  Getting requirements to build wheel ... \u001b[?25l\u001b[?25hdone\n",
            "  Preparing metadata (pyproject.toml) ... \u001b[?25l\u001b[?25hdone\n",
            "Requirement already satisfied: scipy>=0.18.1 in /usr/local/lib/python3.10/dist-packages (from gensim==3.6.0->-r requirements.txt (line 4)) (1.13.0)\n",
            "Requirement already satisfied: six>=1.5.0 in /usr/local/lib/python3.10/dist-packages (from gensim==3.6.0->-r requirements.txt (line 4)) (1.16.0)\n",
            "Requirement already satisfied: smart-open>=1.2.1 in /usr/local/lib/python3.10/dist-packages (from gensim==3.6.0->-r requirements.txt (line 4)) (6.4.0)\n",
            "Requirement already satisfied: google-auth>=1.2 in /usr/local/lib/python3.10/dist-packages (from gcsfs==0.7.1->-r requirements.txt (line 6)) (2.27.0)\n",
            "Requirement already satisfied: google-auth-oauthlib in /usr/local/lib/python3.10/dist-packages (from gcsfs==0.7.1->-r requirements.txt (line 6)) (1.2.0)\n",
            "Requirement already satisfied: requests in /usr/local/lib/python3.10/dist-packages (from gcsfs==0.7.1->-r requirements.txt (line 6)) (2.31.0)\n",
            "Requirement already satisfied: decorator in /usr/local/lib/python3.10/dist-packages (from gcsfs==0.7.1->-r requirements.txt (line 6)) (4.4.2)\n",
            "Requirement already satisfied: aiohttp in /usr/local/lib/python3.10/dist-packages (from gcsfs==0.7.1->-r requirements.txt (line 6)) (3.9.3)\n",
            "Requirement already satisfied: crcmod<2.0,>=1.7 in /usr/local/lib/python3.10/dist-packages (from apache-beam[gcp]->-r requirements.txt (line 2)) (1.7)\n",
            "Requirement already satisfied: orjson<4,>=3.9.7 in /usr/local/lib/python3.10/dist-packages (from apache-beam[gcp]->-r requirements.txt (line 2)) (3.10.0)\n",
            "Requirement already satisfied: dill<0.3.2,>=0.3.1.1 in /usr/local/lib/python3.10/dist-packages (from apache-beam[gcp]->-r requirements.txt (line 2)) (0.3.1.1)\n",
            "Requirement already satisfied: cloudpickle~=2.2.1 in /usr/local/lib/python3.10/dist-packages (from apache-beam[gcp]->-r requirements.txt (line 2)) (2.2.1)\n",
            "Requirement already satisfied: fastavro<2,>=0.23.6 in /usr/local/lib/python3.10/dist-packages (from apache-beam[gcp]->-r requirements.txt (line 2)) (1.9.4)\n",
            "Requirement already satisfied: fasteners<1.0,>=0.3 in /usr/local/lib/python3.10/dist-packages (from apache-beam[gcp]->-r requirements.txt (line 2)) (0.19)\n",
            "Requirement already satisfied: grpcio!=1.48.0,<2,>=1.33.1 in /usr/local/lib/python3.10/dist-packages (from apache-beam[gcp]->-r requirements.txt (line 2)) (1.62.1)\n",
            "Requirement already satisfied: hdfs<3.0.0,>=2.1.0 in /usr/local/lib/python3.10/dist-packages (from apache-beam[gcp]->-r requirements.txt (line 2)) (2.7.3)\n",
            "Requirement already satisfied: httplib2<0.23.0,>=0.8 in /usr/local/lib/python3.10/dist-packages (from apache-beam[gcp]->-r requirements.txt (line 2)) (0.22.0)\n",
            "Requirement already satisfied: js2py<1,>=0.74 in /usr/local/lib/python3.10/dist-packages (from apache-beam[gcp]->-r requirements.txt (line 2)) (0.74)\n",
            "Requirement already satisfied: jsonschema<5.0.0,>=4.0.0 in /usr/local/lib/python3.10/dist-packages (from apache-beam[gcp]->-r requirements.txt (line 2)) (4.19.2)\n",
            "Requirement already satisfied: jsonpickle<4.0.0,>=3.0.0 in /usr/local/lib/python3.10/dist-packages (from apache-beam[gcp]->-r requirements.txt (line 2)) (3.0.3)\n",
            "Requirement already satisfied: objsize<0.8.0,>=0.6.1 in /usr/local/lib/python3.10/dist-packages (from apache-beam[gcp]->-r requirements.txt (line 2)) (0.7.0)\n",
            "Requirement already satisfied: packaging>=22.0 in /usr/local/lib/python3.10/dist-packages (from apache-beam[gcp]->-r requirements.txt (line 2)) (23.2)\n",
            "Requirement already satisfied: pymongo<5.0.0,>=3.8.0 in /usr/local/lib/python3.10/dist-packages (from apache-beam[gcp]->-r requirements.txt (line 2)) (4.6.3)\n",
            "Requirement already satisfied: proto-plus<2,>=1.7.1 in /usr/local/lib/python3.10/dist-packages (from apache-beam[gcp]->-r requirements.txt (line 2)) (1.23.0)\n",
            "Requirement already satisfied: protobuf!=4.0.*,!=4.21.*,!=4.22.0,!=4.23.*,!=4.24.*,<4.26.0,>=3.20.3 in /usr/local/lib/python3.10/dist-packages (from apache-beam[gcp]->-r requirements.txt (line 2)) (3.20.3)\n",
            "Requirement already satisfied: pydot<2,>=1.2.0 in /usr/local/lib/python3.10/dist-packages (from apache-beam[gcp]->-r requirements.txt (line 2)) (1.4.2)\n",
            "Requirement already satisfied: python-dateutil<3,>=2.8.0 in /usr/local/lib/python3.10/dist-packages (from apache-beam[gcp]->-r requirements.txt (line 2)) (2.8.2)\n",
            "Requirement already satisfied: pytz>=2018.3 in /usr/local/lib/python3.10/dist-packages (from apache-beam[gcp]->-r requirements.txt (line 2)) (2023.4)\n",
            "Requirement already satisfied: regex>=2020.6.8 in /usr/local/lib/python3.10/dist-packages (from apache-beam[gcp]->-r requirements.txt (line 2)) (2023.12.25)\n",
            "Requirement already satisfied: typing-extensions>=3.7.0 in /usr/local/lib/python3.10/dist-packages (from apache-beam[gcp]->-r requirements.txt (line 2)) (4.10.0)\n",
            "Requirement already satisfied: zstandard<1,>=0.18.0 in /usr/local/lib/python3.10/dist-packages (from apache-beam[gcp]->-r requirements.txt (line 2)) (0.22.0)\n",
            "Requirement already satisfied: pyarrow<15.0.0,>=3.0.0 in /usr/local/lib/python3.10/dist-packages (from apache-beam[gcp]->-r requirements.txt (line 2)) (14.0.2)\n",
            "Requirement already satisfied: pyarrow-hotfix<1 in /usr/local/lib/python3.10/dist-packages (from apache-beam[gcp]->-r requirements.txt (line 2)) (0.6)\n",
            "Requirement already satisfied: cachetools<6,>=3.1.0 in /usr/local/lib/python3.10/dist-packages (from apache-beam[gcp]->-r requirements.txt (line 2)) (5.3.3)\n",
            "Requirement already satisfied: google-api-core<3,>=2.0.0 in /usr/local/lib/python3.10/dist-packages (from apache-beam[gcp]->-r requirements.txt (line 2)) (2.18.0)\n",
            "Requirement already satisfied: google-apitools<0.5.32,>=0.5.31 in /usr/local/lib/python3.10/dist-packages (from apache-beam[gcp]->-r requirements.txt (line 2)) (0.5.31)\n",
            "Requirement already satisfied: google-auth-httplib2<0.2.0,>=0.1.0 in /usr/local/lib/python3.10/dist-packages (from apache-beam[gcp]->-r requirements.txt (line 2)) (0.1.1)\n",
            "Requirement already satisfied: google-cloud-datastore<3,>=2.0.0 in /usr/local/lib/python3.10/dist-packages (from apache-beam[gcp]->-r requirements.txt (line 2)) (2.15.2)\n",
            "Requirement already satisfied: google-cloud-pubsub<3,>=2.1.0 in /usr/local/lib/python3.10/dist-packages (from apache-beam[gcp]->-r requirements.txt (line 2)) (2.21.1)\n",
            "Requirement already satisfied: google-cloud-pubsublite<2,>=1.2.0 in /usr/local/lib/python3.10/dist-packages (from apache-beam[gcp]->-r requirements.txt (line 2)) (1.9.0)\n",
            "Requirement already satisfied: google-cloud-storage<3,>=2.14.0 in /usr/local/lib/python3.10/dist-packages (from apache-beam[gcp]->-r requirements.txt (line 2)) (2.16.0)\n",
            "Requirement already satisfied: google-cloud-bigquery<4,>=2.0.0 in /usr/local/lib/python3.10/dist-packages (from apache-beam[gcp]->-r requirements.txt (line 2)) (3.12.0)\n",
            "Requirement already satisfied: google-cloud-bigquery-storage<3,>=2.6.3 in /usr/local/lib/python3.10/dist-packages (from apache-beam[gcp]->-r requirements.txt (line 2)) (2.24.0)\n",
            "Requirement already satisfied: google-cloud-core<3,>=2.0.0 in /usr/local/lib/python3.10/dist-packages (from apache-beam[gcp]->-r requirements.txt (line 2)) (2.3.3)\n",
            "Requirement already satisfied: google-cloud-bigtable<3,>=2.19.0 in /usr/local/lib/python3.10/dist-packages (from apache-beam[gcp]->-r requirements.txt (line 2)) (2.23.0)\n",
            "Requirement already satisfied: google-cloud-spanner<4,>=3.0.0 in /usr/local/lib/python3.10/dist-packages (from apache-beam[gcp]->-r requirements.txt (line 2)) (3.44.0)\n",
            "Requirement already satisfied: google-cloud-dlp<4,>=3.0.0 in /usr/local/lib/python3.10/dist-packages (from apache-beam[gcp]->-r requirements.txt (line 2)) (3.16.0)\n",
            "Requirement already satisfied: google-cloud-language<3,>=2.0 in /usr/local/lib/python3.10/dist-packages (from apache-beam[gcp]->-r requirements.txt (line 2)) (2.13.3)\n",
            "Requirement already satisfied: google-cloud-videointelligence<3,>=2.0 in /usr/local/lib/python3.10/dist-packages (from apache-beam[gcp]->-r requirements.txt (line 2)) (2.13.3)\n",
            "Requirement already satisfied: google-cloud-vision<4,>=2 in /usr/local/lib/python3.10/dist-packages (from apache-beam[gcp]->-r requirements.txt (line 2)) (3.7.2)\n",
            "Requirement already satisfied: google-cloud-recommendations-ai<0.11.0,>=0.1.0 in /usr/local/lib/python3.10/dist-packages (from apache-beam[gcp]->-r requirements.txt (line 2)) (0.10.10)\n",
            "Requirement already satisfied: google-cloud-aiplatform<2.0,>=1.26.0 in /usr/local/lib/python3.10/dist-packages (from apache-beam[gcp]->-r requirements.txt (line 2)) (1.46.0)\n",
            "Requirement already satisfied: absl-py>=1.0.0 in /usr/local/lib/python3.10/dist-packages (from tensorflow->-r requirements.txt (line 3)) (1.4.0)\n",
            "Requirement already satisfied: astunparse>=1.6.0 in /usr/local/lib/python3.10/dist-packages (from tensorflow->-r requirements.txt (line 3)) (1.6.3)\n",
            "Requirement already satisfied: flatbuffers>=23.5.26 in /usr/local/lib/python3.10/dist-packages (from tensorflow->-r requirements.txt (line 3)) (24.3.25)\n",
            "Requirement already satisfied: gast!=0.5.0,!=0.5.1,!=0.5.2,>=0.2.1 in /usr/local/lib/python3.10/dist-packages (from tensorflow->-r requirements.txt (line 3)) (0.5.4)\n",
            "Requirement already satisfied: google-pasta>=0.1.1 in /usr/local/lib/python3.10/dist-packages (from tensorflow->-r requirements.txt (line 3)) (0.2.0)\n",
            "Requirement already satisfied: h5py>=2.9.0 in /usr/local/lib/python3.10/dist-packages (from tensorflow->-r requirements.txt (line 3)) (3.9.0)\n",
            "Requirement already satisfied: libclang>=13.0.0 in /usr/local/lib/python3.10/dist-packages (from tensorflow->-r requirements.txt (line 3)) (18.1.1)\n",
            "Requirement already satisfied: ml-dtypes~=0.2.0 in /usr/local/lib/python3.10/dist-packages (from tensorflow->-r requirements.txt (line 3)) (0.2.0)\n",
            "INFO: pip is looking at multiple versions of tensorflow to determine which version is compatible with other requirements. This could take a while.\n",
            "Collecting tensorflow (from -r requirements.txt (line 3))\n",
            "  Using cached tensorflow-2.16.1-cp310-cp310-manylinux_2_17_x86_64.manylinux2014_x86_64.whl (589.8 MB)\n",
            "Collecting h5py>=3.10.0 (from tensorflow->-r requirements.txt (line 3))\n",
            "  Using cached h5py-3.10.0-cp310-cp310-manylinux_2_17_x86_64.manylinux2014_x86_64.whl (4.8 MB)\n",
            "Collecting ml-dtypes~=0.3.1 (from tensorflow->-r requirements.txt (line 3))\n",
            "  Using cached ml_dtypes-0.3.2-cp310-cp310-manylinux_2_17_x86_64.manylinux2014_x86_64.whl (2.2 MB)\n",
            "Requirement already satisfied: opt-einsum>=2.3.2 in /usr/local/lib/python3.10/dist-packages (from tensorflow->-r requirements.txt (line 3)) (3.3.0)\n",
            "Requirement already satisfied: setuptools in /usr/local/lib/python3.10/dist-packages (from tensorflow->-r requirements.txt (line 3)) (67.7.2)\n",
            "Requirement already satisfied: termcolor>=1.1.0 in /usr/local/lib/python3.10/dist-packages (from tensorflow->-r requirements.txt (line 3)) (2.4.0)\n",
            "Requirement already satisfied: wrapt>=1.11.0 in /usr/local/lib/python3.10/dist-packages (from tensorflow->-r requirements.txt (line 3)) (1.14.1)\n",
            "Collecting tensorboard<2.17,>=2.16 (from tensorflow->-r requirements.txt (line 3))\n",
            "  Using cached tensorboard-2.16.2-py3-none-any.whl (5.5 MB)\n",
            "Collecting keras>=3.0.0 (from tensorflow->-r requirements.txt (line 3))\n",
            "  Using cached keras-3.1.1-py3-none-any.whl (1.1 MB)\n",
            "Requirement already satisfied: tensorflow-io-gcs-filesystem>=0.23.1 in /usr/local/lib/python3.10/dist-packages (from tensorflow->-r requirements.txt (line 3)) (0.36.0)\n",
            "Collecting tensorflow (from -r requirements.txt (line 3))\n",
            "  Using cached tensorflow-2.15.1-cp310-cp310-manylinux_2_17_x86_64.manylinux2014_x86_64.whl (475.2 MB)\n",
            "  Using cached tensorflow-2.15.0.post1-cp310-cp310-manylinux_2_17_x86_64.manylinux2014_x86_64.whl (475.2 MB)\n",
            "  Using cached tensorflow-2.14.1-cp310-cp310-manylinux_2_17_x86_64.manylinux2014_x86_64.whl (489.9 MB)\n",
            "  Using cached tensorflow-2.14.0-cp310-cp310-manylinux_2_17_x86_64.manylinux2014_x86_64.whl (489.8 MB)\n",
            "  Using cached tensorflow-2.13.1-cp310-cp310-manylinux_2_17_x86_64.manylinux2014_x86_64.whl (479.7 MB)\n",
            "Collecting gast<=0.4.0,>=0.2.1 (from tensorflow->-r requirements.txt (line 3))\n",
            "  Using cached gast-0.4.0-py3-none-any.whl (9.8 kB)\n",
            "Collecting keras<2.14,>=2.13.1 (from tensorflow->-r requirements.txt (line 3))\n",
            "  Using cached keras-2.13.1-py3-none-any.whl (1.7 MB)\n",
            "Collecting tensorflow (from -r requirements.txt (line 3))\n",
            "  Using cached tensorflow-2.13.0-cp310-cp310-manylinux_2_17_x86_64.manylinux2014_x86_64.whl (524.1 MB)\n",
            "INFO: pip is looking at multiple versions of tensorflow to determine which version is compatible with other requirements. This could take a while.\n",
            "  Using cached tensorflow-2.12.1-cp310-cp310-manylinux_2_17_x86_64.manylinux2014_x86_64.whl (585.9 MB)\n",
            "Requirement already satisfied: jax>=0.3.15 in /usr/local/lib/python3.10/dist-packages (from tensorflow->-r requirements.txt (line 3)) (0.4.23)\n",
            "Collecting keras<2.13,>=2.12.0 (from tensorflow->-r requirements.txt (line 3))\n",
            "  Using cached keras-2.12.0-py2.py3-none-any.whl (1.7 MB)\n",
            "Collecting tensorflow (from -r requirements.txt (line 3))\n",
            "  Using cached tensorflow-2.12.0-cp310-cp310-manylinux_2_17_x86_64.manylinux2014_x86_64.whl (585.9 MB)\n",
            "  Using cached tensorflow-2.11.1-cp310-cp310-manylinux_2_17_x86_64.manylinux2014_x86_64.whl (588.3 MB)\n",
            "Collecting keras<2.12,>=2.11.0 (from tensorflow->-r requirements.txt (line 3))\n",
            "  Using cached keras-2.11.0-py2.py3-none-any.whl (1.7 MB)\n",
            "Collecting tensorflow (from -r requirements.txt (line 3))\n",
            "  Using cached tensorflow-2.11.0-cp310-cp310-manylinux_2_17_x86_64.manylinux2014_x86_64.whl (588.3 MB)\n",
            "  Using cached tensorflow-2.10.1-cp310-cp310-manylinux_2_17_x86_64.manylinux2014_x86_64.whl (578.1 MB)\n",
            "Collecting keras<2.11,>=2.10.0 (from tensorflow->-r requirements.txt (line 3))\n",
            "  Using cached keras-2.10.0-py2.py3-none-any.whl (1.7 MB)\n",
            "Collecting keras-preprocessing>=1.1.1 (from tensorflow->-r requirements.txt (line 3))\n",
            "  Using cached Keras_Preprocessing-1.1.2-py2.py3-none-any.whl (42 kB)\n",
            "INFO: This is taking longer than usual. You might need to provide the dependency resolver with stricter constraints to reduce runtime. See https://pip.pypa.io/warnings/backtracking for guidance. If you want to abort this run, press Ctrl + C.\n",
            "Collecting tensorflow (from -r requirements.txt (line 3))\n",
            "  Using cached tensorflow-2.10.0-cp310-cp310-manylinux_2_17_x86_64.manylinux2014_x86_64.whl (578.0 MB)\n",
            "  Using cached tensorflow-2.9.3-cp310-cp310-manylinux_2_17_x86_64.manylinux2014_x86_64.whl (511.8 MB)\n",
            "Collecting flatbuffers<2,>=1.12 (from tensorflow->-r requirements.txt (line 3))\n",
            "  Using cached flatbuffers-1.12-py2.py3-none-any.whl (15 kB)\n",
            "Collecting keras<2.10.0,>=2.9.0rc0 (from tensorflow->-r requirements.txt (line 3))\n",
            "  Using cached keras-2.9.0-py2.py3-none-any.whl (1.6 MB)\n",
            "Collecting tensorflow (from -r requirements.txt (line 3))\n",
            "  Using cached tensorflow-2.9.2-cp310-cp310-manylinux_2_17_x86_64.manylinux2014_x86_64.whl (511.8 MB)\n",
            "  Using cached tensorflow-2.9.1-cp310-cp310-manylinux_2_17_x86_64.manylinux2014_x86_64.whl (511.7 MB)\n",
            "  Using cached tensorflow-2.9.0-cp310-cp310-manylinux_2_17_x86_64.manylinux2014_x86_64.whl (511.7 MB)\n",
            "Collecting tensorboard<2.10,>=2.9 (from tensorflow->-r requirements.txt (line 3))\n",
            "  Using cached tensorboard-2.9.1-py3-none-any.whl (5.8 MB)\n",
            "Collecting tensorflow-estimator<2.10.0,>=2.9.0rc0 (from tensorflow->-r requirements.txt (line 3))\n",
            "  Using cached tensorflow_estimator-2.9.0-py2.py3-none-any.whl (438 kB)\n",
            "Requirement already satisfied: wheel<1.0,>=0.23.0 in /usr/local/lib/python3.10/dist-packages (from astunparse>=1.6.0->tensorflow->-r requirements.txt (line 3)) (0.43.0)\n",
            "Requirement already satisfied: googleapis-common-protos<2.0.dev0,>=1.56.2 in /usr/local/lib/python3.10/dist-packages (from google-api-core<3,>=2.0.0->apache-beam[gcp]->-r requirements.txt (line 2)) (1.63.0)\n",
            "Requirement already satisfied: oauth2client>=1.4.12 in /usr/local/lib/python3.10/dist-packages (from google-apitools<0.5.32,>=0.5.31->apache-beam[gcp]->-r requirements.txt (line 2)) (4.1.3)\n",
            "Requirement already satisfied: pyasn1-modules>=0.2.1 in /usr/local/lib/python3.10/dist-packages (from google-auth>=1.2->gcsfs==0.7.1->-r requirements.txt (line 6)) (0.4.0)\n",
            "Requirement already satisfied: rsa<5,>=3.1.4 in /usr/local/lib/python3.10/dist-packages (from google-auth>=1.2->gcsfs==0.7.1->-r requirements.txt (line 6)) (4.9)\n",
            "Requirement already satisfied: google-cloud-resource-manager<3.0.0dev,>=1.3.3 in /usr/local/lib/python3.10/dist-packages (from google-cloud-aiplatform<2.0,>=1.26.0->apache-beam[gcp]->-r requirements.txt (line 2)) (1.12.3)\n",
            "Requirement already satisfied: shapely<3.0.0dev in /usr/local/lib/python3.10/dist-packages (from google-cloud-aiplatform<2.0,>=1.26.0->apache-beam[gcp]->-r requirements.txt (line 2)) (2.0.3)\n",
            "Requirement already satisfied: pydantic<3 in /usr/local/lib/python3.10/dist-packages (from google-cloud-aiplatform<2.0,>=1.26.0->apache-beam[gcp]->-r requirements.txt (line 2)) (2.6.4)\n",
            "Requirement already satisfied: docstring-parser<1 in /usr/local/lib/python3.10/dist-packages (from google-cloud-aiplatform<2.0,>=1.26.0->apache-beam[gcp]->-r requirements.txt (line 2)) (0.16)\n",
            "Requirement already satisfied: google-resumable-media<3.0dev,>=0.6.0 in /usr/local/lib/python3.10/dist-packages (from google-cloud-bigquery<4,>=2.0.0->apache-beam[gcp]->-r requirements.txt (line 2)) (2.7.0)\n",
            "Requirement already satisfied: grpc-google-iam-v1<1.0.0dev,>=0.12.4 in /usr/local/lib/python3.10/dist-packages (from google-cloud-bigtable<3,>=2.19.0->apache-beam[gcp]->-r requirements.txt (line 2)) (0.13.0)\n",
            "Requirement already satisfied: grpcio-status>=1.33.2 in /usr/local/lib/python3.10/dist-packages (from google-cloud-pubsub<3,>=2.1.0->apache-beam[gcp]->-r requirements.txt (line 2)) (1.48.2)\n",
            "Requirement already satisfied: overrides<8.0.0,>=6.0.1 in /usr/local/lib/python3.10/dist-packages (from google-cloud-pubsublite<2,>=1.2.0->apache-beam[gcp]->-r requirements.txt (line 2)) (7.7.0)\n",
            "Requirement already satisfied: sqlparse>=0.4.4 in /usr/local/lib/python3.10/dist-packages (from google-cloud-spanner<4,>=3.0.0->apache-beam[gcp]->-r requirements.txt (line 2)) (0.4.4)\n",
            "Requirement already satisfied: deprecated>=1.2.14 in /usr/local/lib/python3.10/dist-packages (from google-cloud-spanner<4,>=3.0.0->apache-beam[gcp]->-r requirements.txt (line 2)) (1.2.14)\n",
            "Requirement already satisfied: grpc-interceptor>=0.15.4 in /usr/local/lib/python3.10/dist-packages (from google-cloud-spanner<4,>=3.0.0->apache-beam[gcp]->-r requirements.txt (line 2)) (0.15.4)\n",
            "Requirement already satisfied: google-crc32c<2.0dev,>=1.0 in /usr/local/lib/python3.10/dist-packages (from google-cloud-storage<3,>=2.14.0->apache-beam[gcp]->-r requirements.txt (line 2)) (1.5.0)\n",
            "Requirement already satisfied: docopt in /usr/local/lib/python3.10/dist-packages (from hdfs<3.0.0,>=2.1.0->apache-beam[gcp]->-r requirements.txt (line 2)) (0.6.2)\n",
            "Requirement already satisfied: pyparsing!=3.0.0,!=3.0.1,!=3.0.2,!=3.0.3,<4,>=2.4.2 in /usr/local/lib/python3.10/dist-packages (from httplib2<0.23.0,>=0.8->apache-beam[gcp]->-r requirements.txt (line 2)) (3.1.2)\n",
            "Requirement already satisfied: tzlocal>=1.2 in /usr/local/lib/python3.10/dist-packages (from js2py<1,>=0.74->apache-beam[gcp]->-r requirements.txt (line 2)) (5.2)\n",
            "Requirement already satisfied: pyjsparser>=2.5.1 in /usr/local/lib/python3.10/dist-packages (from js2py<1,>=0.74->apache-beam[gcp]->-r requirements.txt (line 2)) (2.7.1)\n",
            "Requirement already satisfied: attrs>=22.2.0 in /usr/local/lib/python3.10/dist-packages (from jsonschema<5.0.0,>=4.0.0->apache-beam[gcp]->-r requirements.txt (line 2)) (23.2.0)\n",
            "Requirement already satisfied: jsonschema-specifications>=2023.03.6 in /usr/local/lib/python3.10/dist-packages (from jsonschema<5.0.0,>=4.0.0->apache-beam[gcp]->-r requirements.txt (line 2)) (2023.12.1)\n",
            "Requirement already satisfied: referencing>=0.28.4 in /usr/local/lib/python3.10/dist-packages (from jsonschema<5.0.0,>=4.0.0->apache-beam[gcp]->-r requirements.txt (line 2)) (0.34.0)\n",
            "Requirement already satisfied: rpds-py>=0.7.1 in /usr/local/lib/python3.10/dist-packages (from jsonschema<5.0.0,>=4.0.0->apache-beam[gcp]->-r requirements.txt (line 2)) (0.18.0)\n",
            "Requirement already satisfied: dnspython<3.0.0,>=1.16.0 in /usr/local/lib/python3.10/dist-packages (from pymongo<5.0.0,>=3.8.0->apache-beam[gcp]->-r requirements.txt (line 2)) (2.6.1)\n",
            "Requirement already satisfied: charset-normalizer<4,>=2 in /usr/local/lib/python3.10/dist-packages (from requests->gcsfs==0.7.1->-r requirements.txt (line 6)) (3.3.2)\n",
            "Requirement already satisfied: idna<4,>=2.5 in /usr/local/lib/python3.10/dist-packages (from requests->gcsfs==0.7.1->-r requirements.txt (line 6)) (3.6)\n",
            "Requirement already satisfied: urllib3<3,>=1.21.1 in /usr/local/lib/python3.10/dist-packages (from requests->gcsfs==0.7.1->-r requirements.txt (line 6)) (2.0.7)\n",
            "Requirement already satisfied: certifi>=2017.4.17 in /usr/local/lib/python3.10/dist-packages (from requests->gcsfs==0.7.1->-r requirements.txt (line 6)) (2024.2.2)\n",
            "INFO: pip is looking at multiple versions of scipy to determine which version is compatible with other requirements. This could take a while.\n",
            "Collecting scipy>=0.18.1 (from gensim==3.6.0->-r requirements.txt (line 4))\n",
            "  Using cached scipy-1.12.0-cp310-cp310-manylinux_2_17_x86_64.manylinux2014_x86_64.whl (38.4 MB)\n",
            "  Downloading scipy-1.11.4-cp310-cp310-manylinux_2_17_x86_64.manylinux2014_x86_64.whl (36.4 MB)\n",
            "\u001b[2K     \u001b[90m━━━━━━━━━━━━━━━━━━━━━━━━━━━━━━━━━━━━━━━━\u001b[0m \u001b[32m36.4/36.4 MB\u001b[0m \u001b[31m9.6 MB/s\u001b[0m eta \u001b[36m0:00:00\u001b[0m\n",
            "\u001b[?25h  Using cached scipy-1.11.3-cp310-cp310-manylinux_2_17_x86_64.manylinux2014_x86_64.whl (36.4 MB)\n",
            "  Using cached scipy-1.11.2-cp310-cp310-manylinux_2_17_x86_64.manylinux2014_x86_64.whl (36.3 MB)\n",
            "  Using cached scipy-1.11.1-cp310-cp310-manylinux_2_17_x86_64.manylinux2014_x86_64.whl (36.3 MB)\n",
            "  Using cached scipy-1.10.1-cp310-cp310-manylinux_2_17_x86_64.manylinux2014_x86_64.whl (34.4 MB)\n",
            "Collecting google-auth-oauthlib (from gcsfs==0.7.1->-r requirements.txt (line 6))\n",
            "  Using cached google_auth_oauthlib-0.4.6-py2.py3-none-any.whl (18 kB)\n",
            "Requirement already satisfied: markdown>=2.6.8 in /usr/local/lib/python3.10/dist-packages (from tensorboard<2.10,>=2.9->tensorflow->-r requirements.txt (line 3)) (3.6)\n",
            "INFO: pip is looking at multiple versions of tensorboard to determine which version is compatible with other requirements. This could take a while.\n",
            "Collecting tensorboard<2.10,>=2.9 (from tensorflow->-r requirements.txt (line 3))\n",
            "  Using cached tensorboard-2.9.0-py3-none-any.whl (5.8 MB)\n",
            "Collecting tensorboard-data-server<0.7.0,>=0.6.0 (from tensorboard<2.10,>=2.9->tensorflow->-r requirements.txt (line 3))\n",
            "  Using cached tensorboard_data_server-0.6.1-py3-none-manylinux2010_x86_64.whl (4.9 MB)\n",
            "Collecting tensorboard-plugin-wit>=1.6.0 (from tensorboard<2.10,>=2.9->tensorflow->-r requirements.txt (line 3))\n",
            "  Using cached tensorboard_plugin_wit-1.8.1-py3-none-any.whl (781 kB)\n",
            "Requirement already satisfied: werkzeug>=1.0.1 in /usr/local/lib/python3.10/dist-packages (from tensorboard<2.10,>=2.9->tensorflow->-r requirements.txt (line 3)) (3.0.2)\n",
            "Requirement already satisfied: requests-oauthlib>=0.7.0 in /usr/local/lib/python3.10/dist-packages (from google-auth-oauthlib->gcsfs==0.7.1->-r requirements.txt (line 6)) (1.3.1)\n",
            "Requirement already satisfied: aiosignal>=1.1.2 in /usr/local/lib/python3.10/dist-packages (from aiohttp->gcsfs==0.7.1->-r requirements.txt (line 6)) (1.3.1)\n",
            "Requirement already satisfied: frozenlist>=1.1.1 in /usr/local/lib/python3.10/dist-packages (from aiohttp->gcsfs==0.7.1->-r requirements.txt (line 6)) (1.4.1)\n",
            "Requirement already satisfied: multidict<7.0,>=4.5 in /usr/local/lib/python3.10/dist-packages (from aiohttp->gcsfs==0.7.1->-r requirements.txt (line 6)) (6.0.5)\n",
            "Requirement already satisfied: yarl<2.0,>=1.0 in /usr/local/lib/python3.10/dist-packages (from aiohttp->gcsfs==0.7.1->-r requirements.txt (line 6)) (1.9.4)\n",
            "Requirement already satisfied: async-timeout<5.0,>=4.0 in /usr/local/lib/python3.10/dist-packages (from aiohttp->gcsfs==0.7.1->-r requirements.txt (line 6)) (4.0.3)\n",
            "Requirement already satisfied: pyasn1>=0.1.7 in /usr/local/lib/python3.10/dist-packages (from oauth2client>=1.4.12->google-apitools<0.5.32,>=0.5.31->apache-beam[gcp]->-r requirements.txt (line 2)) (0.6.0)\n",
            "Requirement already satisfied: annotated-types>=0.4.0 in /usr/local/lib/python3.10/dist-packages (from pydantic<3->google-cloud-aiplatform<2.0,>=1.26.0->apache-beam[gcp]->-r requirements.txt (line 2)) (0.6.0)\n",
            "Requirement already satisfied: pydantic-core==2.16.3 in /usr/local/lib/python3.10/dist-packages (from pydantic<3->google-cloud-aiplatform<2.0,>=1.26.0->apache-beam[gcp]->-r requirements.txt (line 2)) (2.16.3)\n",
            "Requirement already satisfied: oauthlib>=3.0.0 in /usr/local/lib/python3.10/dist-packages (from requests-oauthlib>=0.7.0->google-auth-oauthlib->gcsfs==0.7.1->-r requirements.txt (line 6)) (3.2.2)\n",
            "Requirement already satisfied: MarkupSafe>=2.1.1 in /usr/local/lib/python3.10/dist-packages (from werkzeug>=1.0.1->tensorboard<2.10,>=2.9->tensorflow->-r requirements.txt (line 3)) (2.1.5)\n",
            "Building wheels for collected packages: numpy\n",
            "  \u001b[1;31merror\u001b[0m: \u001b[1msubprocess-exited-with-error\u001b[0m\n",
            "  \n",
            "  \u001b[31m×\u001b[0m \u001b[32mBuilding wheel for numpy \u001b[0m\u001b[1;32m(\u001b[0m\u001b[32mpyproject.toml\u001b[0m\u001b[1;32m)\u001b[0m did not run successfully.\n",
            "  \u001b[31m│\u001b[0m exit code: \u001b[1;36m1\u001b[0m\n",
            "  \u001b[31m╰─>\u001b[0m See above for output.\n",
            "  \n",
            "  \u001b[1;35mnote\u001b[0m: This error originates from a subprocess, and is likely not a problem with pip.\n",
            "  Building wheel for numpy (pyproject.toml) ... \u001b[?25l\u001b[?25herror\n",
            "\u001b[31m  ERROR: Failed building wheel for numpy\u001b[0m\u001b[31m\n",
            "\u001b[0mFailed to build numpy\n",
            "\u001b[31mERROR: Could not build wheels for numpy, which is required to install pyproject.toml-based projects\u001b[0m\u001b[31m\n",
            "\u001b[0m"
          ]
        }
      ],
      "source": [
        "! pip install -r requirements.txt"
      ]
    },
    {
      "cell_type": "code",
      "execution_count": 31,
      "metadata": {
        "id": "jRCMqESUnUcq",
        "colab": {
          "base_uri": "https://localhost:8080/"
        },
        "outputId": "51f3e5bc-66b8-481c-b3ed-d25c71c78494"
      },
      "outputs": [
        {
          "output_type": "stream",
          "name": "stdout",
          "text": [
            "Requirement already satisfied: apache-beam[gcp] in /usr/local/lib/python3.10/dist-packages (2.55.0)\n",
            "Requirement already satisfied: crcmod<2.0,>=1.7 in /usr/local/lib/python3.10/dist-packages (from apache-beam[gcp]) (1.7)\n",
            "Requirement already satisfied: orjson<4,>=3.9.7 in /usr/local/lib/python3.10/dist-packages (from apache-beam[gcp]) (3.10.0)\n",
            "Requirement already satisfied: dill<0.3.2,>=0.3.1.1 in /usr/local/lib/python3.10/dist-packages (from apache-beam[gcp]) (0.3.1.1)\n",
            "Requirement already satisfied: cloudpickle~=2.2.1 in /usr/local/lib/python3.10/dist-packages (from apache-beam[gcp]) (2.2.1)\n",
            "Requirement already satisfied: fastavro<2,>=0.23.6 in /usr/local/lib/python3.10/dist-packages (from apache-beam[gcp]) (1.9.4)\n",
            "Requirement already satisfied: fasteners<1.0,>=0.3 in /usr/local/lib/python3.10/dist-packages (from apache-beam[gcp]) (0.19)\n",
            "Requirement already satisfied: grpcio!=1.48.0,<2,>=1.33.1 in /usr/local/lib/python3.10/dist-packages (from apache-beam[gcp]) (1.62.1)\n",
            "Requirement already satisfied: hdfs<3.0.0,>=2.1.0 in /usr/local/lib/python3.10/dist-packages (from apache-beam[gcp]) (2.7.3)\n",
            "Requirement already satisfied: httplib2<0.23.0,>=0.8 in /usr/local/lib/python3.10/dist-packages (from apache-beam[gcp]) (0.22.0)\n",
            "Requirement already satisfied: js2py<1,>=0.74 in /usr/local/lib/python3.10/dist-packages (from apache-beam[gcp]) (0.74)\n",
            "Requirement already satisfied: jsonschema<5.0.0,>=4.0.0 in /usr/local/lib/python3.10/dist-packages (from apache-beam[gcp]) (4.19.2)\n",
            "Requirement already satisfied: jsonpickle<4.0.0,>=3.0.0 in /usr/local/lib/python3.10/dist-packages (from apache-beam[gcp]) (3.0.3)\n",
            "Requirement already satisfied: numpy<1.27.0,>=1.14.3 in /usr/local/lib/python3.10/dist-packages (from apache-beam[gcp]) (1.26.4)\n",
            "Requirement already satisfied: objsize<0.8.0,>=0.6.1 in /usr/local/lib/python3.10/dist-packages (from apache-beam[gcp]) (0.7.0)\n",
            "Requirement already satisfied: packaging>=22.0 in /usr/local/lib/python3.10/dist-packages (from apache-beam[gcp]) (23.2)\n",
            "Requirement already satisfied: pymongo<5.0.0,>=3.8.0 in /usr/local/lib/python3.10/dist-packages (from apache-beam[gcp]) (4.6.3)\n",
            "Requirement already satisfied: proto-plus<2,>=1.7.1 in /usr/local/lib/python3.10/dist-packages (from apache-beam[gcp]) (1.23.0)\n",
            "Requirement already satisfied: protobuf!=4.0.*,!=4.21.*,!=4.22.0,!=4.23.*,!=4.24.*,<4.26.0,>=3.20.3 in /usr/local/lib/python3.10/dist-packages (from apache-beam[gcp]) (3.20.3)\n",
            "Requirement already satisfied: pydot<2,>=1.2.0 in /usr/local/lib/python3.10/dist-packages (from apache-beam[gcp]) (1.4.2)\n",
            "Requirement already satisfied: python-dateutil<3,>=2.8.0 in /usr/local/lib/python3.10/dist-packages (from apache-beam[gcp]) (2.8.2)\n",
            "Requirement already satisfied: pytz>=2018.3 in /usr/local/lib/python3.10/dist-packages (from apache-beam[gcp]) (2023.4)\n",
            "Requirement already satisfied: regex>=2020.6.8 in /usr/local/lib/python3.10/dist-packages (from apache-beam[gcp]) (2023.12.25)\n",
            "Requirement already satisfied: requests<3.0.0,>=2.24.0 in /usr/local/lib/python3.10/dist-packages (from apache-beam[gcp]) (2.31.0)\n",
            "Requirement already satisfied: typing-extensions>=3.7.0 in /usr/local/lib/python3.10/dist-packages (from apache-beam[gcp]) (4.10.0)\n",
            "Requirement already satisfied: zstandard<1,>=0.18.0 in /usr/local/lib/python3.10/dist-packages (from apache-beam[gcp]) (0.22.0)\n",
            "Requirement already satisfied: pyarrow<15.0.0,>=3.0.0 in /usr/local/lib/python3.10/dist-packages (from apache-beam[gcp]) (14.0.2)\n",
            "Requirement already satisfied: pyarrow-hotfix<1 in /usr/local/lib/python3.10/dist-packages (from apache-beam[gcp]) (0.6)\n",
            "Requirement already satisfied: cachetools<6,>=3.1.0 in /usr/local/lib/python3.10/dist-packages (from apache-beam[gcp]) (5.3.3)\n",
            "Requirement already satisfied: google-api-core<3,>=2.0.0 in /usr/local/lib/python3.10/dist-packages (from apache-beam[gcp]) (2.18.0)\n",
            "Requirement already satisfied: google-apitools<0.5.32,>=0.5.31 in /usr/local/lib/python3.10/dist-packages (from apache-beam[gcp]) (0.5.31)\n",
            "Requirement already satisfied: google-auth<3,>=1.18.0 in /usr/local/lib/python3.10/dist-packages (from apache-beam[gcp]) (2.27.0)\n",
            "Requirement already satisfied: google-auth-httplib2<0.2.0,>=0.1.0 in /usr/local/lib/python3.10/dist-packages (from apache-beam[gcp]) (0.1.1)\n",
            "Requirement already satisfied: google-cloud-datastore<3,>=2.0.0 in /usr/local/lib/python3.10/dist-packages (from apache-beam[gcp]) (2.15.2)\n",
            "Requirement already satisfied: google-cloud-pubsub<3,>=2.1.0 in /usr/local/lib/python3.10/dist-packages (from apache-beam[gcp]) (2.21.1)\n",
            "Requirement already satisfied: google-cloud-pubsublite<2,>=1.2.0 in /usr/local/lib/python3.10/dist-packages (from apache-beam[gcp]) (1.9.0)\n",
            "Requirement already satisfied: google-cloud-storage<3,>=2.14.0 in /usr/local/lib/python3.10/dist-packages (from apache-beam[gcp]) (2.16.0)\n",
            "Requirement already satisfied: google-cloud-bigquery<4,>=2.0.0 in /usr/local/lib/python3.10/dist-packages (from apache-beam[gcp]) (3.12.0)\n",
            "Requirement already satisfied: google-cloud-bigquery-storage<3,>=2.6.3 in /usr/local/lib/python3.10/dist-packages (from apache-beam[gcp]) (2.24.0)\n",
            "Requirement already satisfied: google-cloud-core<3,>=2.0.0 in /usr/local/lib/python3.10/dist-packages (from apache-beam[gcp]) (2.3.3)\n",
            "Requirement already satisfied: google-cloud-bigtable<3,>=2.19.0 in /usr/local/lib/python3.10/dist-packages (from apache-beam[gcp]) (2.23.0)\n",
            "Requirement already satisfied: google-cloud-spanner<4,>=3.0.0 in /usr/local/lib/python3.10/dist-packages (from apache-beam[gcp]) (3.44.0)\n",
            "Requirement already satisfied: google-cloud-dlp<4,>=3.0.0 in /usr/local/lib/python3.10/dist-packages (from apache-beam[gcp]) (3.16.0)\n",
            "Requirement already satisfied: google-cloud-language<3,>=2.0 in /usr/local/lib/python3.10/dist-packages (from apache-beam[gcp]) (2.13.3)\n",
            "Requirement already satisfied: google-cloud-videointelligence<3,>=2.0 in /usr/local/lib/python3.10/dist-packages (from apache-beam[gcp]) (2.13.3)\n",
            "Requirement already satisfied: google-cloud-vision<4,>=2 in /usr/local/lib/python3.10/dist-packages (from apache-beam[gcp]) (3.7.2)\n",
            "Requirement already satisfied: google-cloud-recommendations-ai<0.11.0,>=0.1.0 in /usr/local/lib/python3.10/dist-packages (from apache-beam[gcp]) (0.10.10)\n",
            "Requirement already satisfied: google-cloud-aiplatform<2.0,>=1.26.0 in /usr/local/lib/python3.10/dist-packages (from apache-beam[gcp]) (1.46.0)\n",
            "Requirement already satisfied: googleapis-common-protos<2.0.dev0,>=1.56.2 in /usr/local/lib/python3.10/dist-packages (from google-api-core<3,>=2.0.0->apache-beam[gcp]) (1.63.0)\n",
            "Requirement already satisfied: oauth2client>=1.4.12 in /usr/local/lib/python3.10/dist-packages (from google-apitools<0.5.32,>=0.5.31->apache-beam[gcp]) (4.1.3)\n",
            "Requirement already satisfied: six>=1.12.0 in /usr/local/lib/python3.10/dist-packages (from google-apitools<0.5.32,>=0.5.31->apache-beam[gcp]) (1.16.0)\n",
            "Requirement already satisfied: pyasn1-modules>=0.2.1 in /usr/local/lib/python3.10/dist-packages (from google-auth<3,>=1.18.0->apache-beam[gcp]) (0.4.0)\n",
            "Requirement already satisfied: rsa<5,>=3.1.4 in /usr/local/lib/python3.10/dist-packages (from google-auth<3,>=1.18.0->apache-beam[gcp]) (4.9)\n",
            "Requirement already satisfied: google-cloud-resource-manager<3.0.0dev,>=1.3.3 in /usr/local/lib/python3.10/dist-packages (from google-cloud-aiplatform<2.0,>=1.26.0->apache-beam[gcp]) (1.12.3)\n",
            "Requirement already satisfied: shapely<3.0.0dev in /usr/local/lib/python3.10/dist-packages (from google-cloud-aiplatform<2.0,>=1.26.0->apache-beam[gcp]) (2.0.3)\n",
            "Requirement already satisfied: pydantic<3 in /usr/local/lib/python3.10/dist-packages (from google-cloud-aiplatform<2.0,>=1.26.0->apache-beam[gcp]) (2.6.4)\n",
            "Requirement already satisfied: docstring-parser<1 in /usr/local/lib/python3.10/dist-packages (from google-cloud-aiplatform<2.0,>=1.26.0->apache-beam[gcp]) (0.16)\n",
            "Requirement already satisfied: google-resumable-media<3.0dev,>=0.6.0 in /usr/local/lib/python3.10/dist-packages (from google-cloud-bigquery<4,>=2.0.0->apache-beam[gcp]) (2.7.0)\n",
            "Requirement already satisfied: grpc-google-iam-v1<1.0.0dev,>=0.12.4 in /usr/local/lib/python3.10/dist-packages (from google-cloud-bigtable<3,>=2.19.0->apache-beam[gcp]) (0.13.0)\n",
            "Requirement already satisfied: grpcio-status>=1.33.2 in /usr/local/lib/python3.10/dist-packages (from google-cloud-pubsub<3,>=2.1.0->apache-beam[gcp]) (1.48.2)\n",
            "Requirement already satisfied: overrides<8.0.0,>=6.0.1 in /usr/local/lib/python3.10/dist-packages (from google-cloud-pubsublite<2,>=1.2.0->apache-beam[gcp]) (7.7.0)\n",
            "Requirement already satisfied: sqlparse>=0.4.4 in /usr/local/lib/python3.10/dist-packages (from google-cloud-spanner<4,>=3.0.0->apache-beam[gcp]) (0.4.4)\n",
            "Requirement already satisfied: deprecated>=1.2.14 in /usr/local/lib/python3.10/dist-packages (from google-cloud-spanner<4,>=3.0.0->apache-beam[gcp]) (1.2.14)\n",
            "Requirement already satisfied: grpc-interceptor>=0.15.4 in /usr/local/lib/python3.10/dist-packages (from google-cloud-spanner<4,>=3.0.0->apache-beam[gcp]) (0.15.4)\n",
            "Requirement already satisfied: google-crc32c<2.0dev,>=1.0 in /usr/local/lib/python3.10/dist-packages (from google-cloud-storage<3,>=2.14.0->apache-beam[gcp]) (1.5.0)\n",
            "Requirement already satisfied: docopt in /usr/local/lib/python3.10/dist-packages (from hdfs<3.0.0,>=2.1.0->apache-beam[gcp]) (0.6.2)\n",
            "Requirement already satisfied: pyparsing!=3.0.0,!=3.0.1,!=3.0.2,!=3.0.3,<4,>=2.4.2 in /usr/local/lib/python3.10/dist-packages (from httplib2<0.23.0,>=0.8->apache-beam[gcp]) (3.1.2)\n",
            "Requirement already satisfied: tzlocal>=1.2 in /usr/local/lib/python3.10/dist-packages (from js2py<1,>=0.74->apache-beam[gcp]) (5.2)\n",
            "Requirement already satisfied: pyjsparser>=2.5.1 in /usr/local/lib/python3.10/dist-packages (from js2py<1,>=0.74->apache-beam[gcp]) (2.7.1)\n",
            "Requirement already satisfied: attrs>=22.2.0 in /usr/local/lib/python3.10/dist-packages (from jsonschema<5.0.0,>=4.0.0->apache-beam[gcp]) (23.2.0)\n",
            "Requirement already satisfied: jsonschema-specifications>=2023.03.6 in /usr/local/lib/python3.10/dist-packages (from jsonschema<5.0.0,>=4.0.0->apache-beam[gcp]) (2023.12.1)\n",
            "Requirement already satisfied: referencing>=0.28.4 in /usr/local/lib/python3.10/dist-packages (from jsonschema<5.0.0,>=4.0.0->apache-beam[gcp]) (0.34.0)\n",
            "Requirement already satisfied: rpds-py>=0.7.1 in /usr/local/lib/python3.10/dist-packages (from jsonschema<5.0.0,>=4.0.0->apache-beam[gcp]) (0.18.0)\n",
            "Requirement already satisfied: dnspython<3.0.0,>=1.16.0 in /usr/local/lib/python3.10/dist-packages (from pymongo<5.0.0,>=3.8.0->apache-beam[gcp]) (2.6.1)\n",
            "Requirement already satisfied: charset-normalizer<4,>=2 in /usr/local/lib/python3.10/dist-packages (from requests<3.0.0,>=2.24.0->apache-beam[gcp]) (3.3.2)\n",
            "Requirement already satisfied: idna<4,>=2.5 in /usr/local/lib/python3.10/dist-packages (from requests<3.0.0,>=2.24.0->apache-beam[gcp]) (3.6)\n",
            "Requirement already satisfied: urllib3<3,>=1.21.1 in /usr/local/lib/python3.10/dist-packages (from requests<3.0.0,>=2.24.0->apache-beam[gcp]) (2.0.7)\n",
            "Requirement already satisfied: certifi>=2017.4.17 in /usr/local/lib/python3.10/dist-packages (from requests<3.0.0,>=2.24.0->apache-beam[gcp]) (2024.2.2)\n",
            "Requirement already satisfied: wrapt<2,>=1.10 in /usr/local/lib/python3.10/dist-packages (from deprecated>=1.2.14->google-cloud-spanner<4,>=3.0.0->apache-beam[gcp]) (1.14.1)\n",
            "Requirement already satisfied: pyasn1>=0.1.7 in /usr/local/lib/python3.10/dist-packages (from oauth2client>=1.4.12->google-apitools<0.5.32,>=0.5.31->apache-beam[gcp]) (0.6.0)\n",
            "Requirement already satisfied: annotated-types>=0.4.0 in /usr/local/lib/python3.10/dist-packages (from pydantic<3->google-cloud-aiplatform<2.0,>=1.26.0->apache-beam[gcp]) (0.6.0)\n",
            "Requirement already satisfied: pydantic-core==2.16.3 in /usr/local/lib/python3.10/dist-packages (from pydantic<3->google-cloud-aiplatform<2.0,>=1.26.0->apache-beam[gcp]) (2.16.3)\n"
          ]
        }
      ],
      "source": [
        "! pip install apache-beam[gcp]"
      ]
    },
    {
      "cell_type": "code",
      "source": [
        "\n",
        "# Nos aseguramos que nuestras variables de entorno no hayan desaparecido al reiniciar el kernel\n",
        "\n",
        "PROJECT_ID = \"imp-algo-jcg\" #@param {type:\"string\"}\n",
        "! gcloud config set project $PROJECT_ID\n",
        "BUCKET_NAME = \"imp-algo-jcg\" #@param {type:\"string\"}\n",
        "REGION = \"europe-west1\" #@param {type:\"string\"}\n",
        "\n",
        "print(f\"Project: {PROJECT_ID}\")\n",
        "print(f\"Region: {REGION}\")\n",
        "print(f\"Bucket: {BUCKET_NAME}\")"
      ],
      "metadata": {
        "colab": {
          "base_uri": "https://localhost:8080/"
        },
        "id": "Rj6Mc5IeESWG",
        "outputId": "6b2ea804-1a59-47ed-98a9-8878fd1006a9"
      },
      "execution_count": 32,
      "outputs": [
        {
          "output_type": "stream",
          "name": "stdout",
          "text": [
            "Updated property [core/project].\n",
            "Project: imp-algo-jcg\n",
            "Region: europe-west1\n",
            "Bucket: imp-algo-jcg\n"
          ]
        }
      ]
    },
    {
      "cell_type": "markdown",
      "metadata": {
        "id": "k0DDu27S3CJv"
      },
      "source": [
        "## Primer ejercicio\n",
        "\n",
        "Desarrollar un pipeline de preprocesamiento utilizando Apache Beam para generar datos de train, eval y test para los datos proporcionados anteriormente. Requisitos:\n",
        "\n",
        "- Proporcionar dos modos de ejecución: `train` y `test`\n",
        "- Soportar ejecuciones en local con `DirectRunner` y ejecuciones en Dataflow usando `DataFlowRunner`."
      ]
    },
    {
      "cell_type": "code",
      "source": [
        "# CONVIERTO EL JSON A CSV YA QUE ME HA DADO MUCHISIMOS PROBLEMAS A LA HORA DE CREAR EL PIPELINE POR LO QUE HE DECIDIDO CAMBIARLO A CSV.\n",
        "\n",
        "import csv\n",
        "import json\n",
        "\n",
        "# Rutas de entrada y salida\n",
        "input_json_path = \"/content/dataset-cybertrolls/dataset-cybertrolls.json\"\n",
        "output_csv_path = \"/content/dataset-cybertrolls/cybertrolls_modified.csv\"\n",
        "\n",
        "new_data = []\n",
        "\n",
        "with open(input_json_path, \"r\") as input_file:\n",
        "    for line in input_file:\n",
        "        item = json.loads(line)\n",
        "        content = item.get(\"content\", \"\")\n",
        "        label = item.get(\"annotation\", {}).get(\"label\", [\"\"])[0]\n",
        "        new_data.append((content, label))\n",
        "\n",
        "\n",
        "with open(output_csv_path, \"w\", newline=\"\") as output_file:\n",
        "    csv_writer = csv.writer(output_file)\n",
        "    csv_writer.writerow([\"content\", \"label\"])\n",
        "    csv_writer.writerows(new_data)"
      ],
      "metadata": {
        "id": "KVLhhuS5F7hl"
      },
      "execution_count": 33,
      "outputs": []
    },
    {
      "cell_type": "code",
      "source": [
        "# Rutas de entrada y salida\n",
        "input_csv_path = \"/content/dataset-cybertrolls/cybertrolls_modified.csv\"\n",
        "output_csv_path = \"/content/dataset-cybertrolls/cybertrolls_cleaned.csv\"\n",
        "\n",
        "# Convierto la columna label a int para no tener problemas al ejecutar el pipeline\n",
        "data = pd.read_csv(input_csv_path)\n",
        "data['label'] = data['label'].astype(int)\n",
        "\n",
        "# Guardo\n",
        "data.to_csv(output_csv_path, index=False)"
      ],
      "metadata": {
        "id": "FNGX_Tp_KWzf"
      },
      "execution_count": 34,
      "outputs": []
    },
    {
      "cell_type": "code",
      "source": [
        "data.shape"
      ],
      "metadata": {
        "colab": {
          "base_uri": "https://localhost:8080/"
        },
        "id": "zjUT4sDMLjRJ",
        "outputId": "9a6abc7c-8fc2-4d0d-8bb9-a7aa57989b08"
      },
      "execution_count": 35,
      "outputs": [
        {
          "output_type": "execute_result",
          "data": {
            "text/plain": [
              "(20001, 2)"
            ]
          },
          "metadata": {},
          "execution_count": 35
        }
      ]
    },
    {
      "cell_type": "code",
      "execution_count": 36,
      "metadata": {
        "id": "1blctlxs_dPO",
        "colab": {
          "base_uri": "https://localhost:8080/"
        },
        "outputId": "37a1c202-4472-4209-c75e-9cb763286f49"
      },
      "outputs": [
        {
          "output_type": "stream",
          "name": "stdout",
          "text": [
            "Overwriting /content/dataset-cybertrolls/pipeline_split.py\n"
          ]
        }
      ],
      "source": [
        "%%writefile /content/dataset-cybertrolls/pipeline_split.py\n",
        "\n",
        "import argparse\n",
        "import logging\n",
        "import re\n",
        "import os\n",
        "import csv\n",
        "import random\n",
        "\n",
        "import apache_beam as beam\n",
        "from apache_beam.io import ReadFromText, WriteToText\n",
        "from apache_beam.coders.coders import Coder\n",
        "from apache_beam.options.pipeline_options import PipelineOptions\n",
        "from apache_beam.options.pipeline_options import SetupOptions, DirectOptions\n",
        "\n",
        "import nltk\n",
        "from nltk.corpus import stopwords\n",
        "from nltk.stem import SnowballStemmer\n",
        "\n",
        "nltk.download(\"stopwords\")\n",
        "\n",
        "# CLEANING\n",
        "STOP_WORDS = set(stopwords.words(\"english\"))\n",
        "STEMMER = SnowballStemmer(\"english\")\n",
        "TEXT_CLEANING_RE = \"@\\S+|https?:\\S+|http?:\\S|[^A-Za-z0-9]+\"\n",
        "\n",
        "class CustomCoder(Coder):\n",
        "    \"\"\"Custom coder utilizado para ller y escribir strings. Realiza una serie de tranformaciones entre codificaciones\"\"\"\n",
        "\n",
        "    def __init__(self, encoding: str):\n",
        "        self.enconding = encoding\n",
        "\n",
        "    def encode(self, value):\n",
        "        return value.encode(self.enconding)\n",
        "\n",
        "    def decode(self, value):\n",
        "        return value.decode(self.enconding)\n",
        "\n",
        "    def is_deterministic(self):\n",
        "        return True\n",
        "\n",
        "class PreprocessColumnsTrainFn(beam.DoFn):\n",
        "    \"\"\"Realiza el preprocesamiento propio de NLP\"\"\"\n",
        "\n",
        "    def process_text(self, text):\n",
        "        text = re.sub(TEXT_CLEANING_RE, \" \", str(text).lower()).strip()\n",
        "        tokens = []\n",
        "        for token in text.split():\n",
        "            if token not in STOP_WORDS:\n",
        "                # Si el token es un número, conviértelo a cadena de texto\n",
        "                if token.replace('.', '', 1).isdigit():  # Verifica si el token es un número (incluyendo números decimales)\n",
        "                    tokens.append(\"number\")\n",
        "                else:\n",
        "                    tokens.append(STEMMER.stem(token))\n",
        "        return \" \".join(tokens)\n",
        "\n",
        "    def process(self, element):\n",
        "        if isinstance(element, str):\n",
        "            try:\n",
        "                text, sentiment = element.split(\",\")\n",
        "            except ValueError:\n",
        "                logging.warning(\"No se pudo dividir la línea por la coma. Usando la línea como está.\")\n",
        "                text = element.strip()\n",
        "                sentiment = \"1\"  # Asignamos un valor por defecto\n",
        "            processed_text = self.process_text(text)\n",
        "            processed_sentiment = sentiment  # No necesitas procesar el sentimiento aquí\n",
        "            yield f\"{processed_text}, {processed_sentiment}\"\n",
        "\n",
        "\n",
        "def run(argv=None, save_main_session=True):\n",
        "    parser = argparse.ArgumentParser()\n",
        "    parser.add_argument(\"--work-dir\", dest=\"work_dir\", required=True, help=\"Directorio de trabajo\")\n",
        "    parser.add_argument(\"--input\", dest=\"input\", required=True, help=\"Dataset de entrada en el directorio de trabajo\")\n",
        "    parser.add_argument(\"--output\", dest=\"output\", required=True, help=\"Ruta de salida para almacenar los datos transformados\")\n",
        "    parser.add_argument(\"--mode\", dest=\"mode\", required=True, choices=[\"train\", \"test\"], help=\"Tipo de salida para almacenar los datos transformados\")\n",
        "\n",
        "    known_args, pipeline_args = parser.parse_known_args(argv)\n",
        "\n",
        "    pipeline_options = PipelineOptions(pipeline_args)\n",
        "    pipeline_options.view_as(SetupOptions).save_main_session = save_main_session\n",
        "    pipeline_options.view_as(DirectOptions).direct_num_workers = 0\n",
        "\n",
        "    with beam.Pipeline(options=pipeline_options) as p:\n",
        "        raw_data = p | \"ReadTrollData\" >> ReadFromText(known_args.input, coder=CustomCoder(\"latin-1\"))\n",
        "\n",
        "        if known_args.mode == \"train\":\n",
        "            transformed_data = (raw_data\n",
        "                                | \"Preprocess\" >> beam.ParDo(PreprocessColumnsTrainFn()))\n",
        "\n",
        "            eval_percent = 20\n",
        "            assert 0 < eval_percent < 100, \"eval_percent must be in the range (0-100)\"\n",
        "            train_dataset, eval_dataset = (transformed_data\n",
        "                                           | \"Split dataset\"\n",
        "                                           >> beam.Partition(lambda elem, _: int(random.uniform(0, 100) < eval_percent), 2))\n",
        "\n",
        "            train_dataset | \"TrainWriteToCSV\" >> WriteToText(os.path.join(known_args.output, \"train\", \"part\"), file_name_suffix=\".csv\")\n",
        "            eval_dataset | \"ValWriteToCSV\" >> WriteToText(os.path.join(known_args.output, \"val\", \"part\"), file_name_suffix=\".csv\")\n",
        "\n",
        "        else:\n",
        "            transformed_data = (raw_data\n",
        "                                | \"Preprocess\" >> beam.ParDo(PreprocessColumnsTrainFn()))\n",
        "\n",
        "            transformed_data | \"TestWriteToCSV\" >> WriteToText(os.path.join(known_args.output, \"test\", \"part\"), file_name_suffix=\".csv\")\n",
        "\n",
        "if __name__ == \"__main__\":\n",
        "    logging.getLogger().setLevel(logging.INFO)\n",
        "    run()\n"
      ]
    },
    {
      "cell_type": "markdown",
      "metadata": {
        "id": "qawuKC0k4B0e"
      },
      "source": [
        "Se proporciona un fichero `setup.py` necesario para ejecutar en DataFlow. Modificar la variable `REQUIRED_PACKAGES` con las dependencias que se hayan usado en el `requirements.txt`"
      ]
    },
    {
      "cell_type": "code",
      "execution_count": 37,
      "metadata": {
        "id": "n1MQvWsk_mVX",
        "colab": {
          "base_uri": "https://localhost:8080/"
        },
        "outputId": "7632984e-99f1-4e36-c212-890b6219005b"
      },
      "outputs": [
        {
          "output_type": "stream",
          "name": "stdout",
          "text": [
            "Overwriting /content/dataset-cybertrolls/setup.py\n"
          ]
        }
      ],
      "source": [
        "%%writefile /content/dataset-cybertrolls/setup.py\n",
        "\n",
        "import setuptools\n",
        "\n",
        "REQUIRED_PACKAGES = [\n",
        "  \"apache-beam[gcp]==2.24.0\",\n",
        "  \"tensorflow==2.8.0\",\n",
        "  \"gensim==3.6.0\",\n",
        "  \"fsspec==0.8.4\",\n",
        "  \"gcsfs==0.7.1\",\n",
        "  \"numpy==1.20.0\"\n",
        "]\n",
        "\n",
        "setuptools.setup(\n",
        "    name=\"twitchstreaming\",\n",
        "    version=\"0.0.1\",\n",
        "    install_requires=REQUIRED_PACKAGES,\n",
        "    packages=setuptools.find_packages(),\n",
        "    include_package_data=True,\n",
        "    description=\"Troll detection\",\n",
        ")\n"
      ]
    },
    {
      "cell_type": "markdown",
      "metadata": {
        "id": "hxYFYMy-o55h"
      },
      "source": [
        "Me creo una copia por si hubiera algún error en el procesamiento (buena práctica):"
      ]
    },
    {
      "cell_type": "code",
      "execution_count": 38,
      "metadata": {
        "id": "KlBCbvSQpBUK",
        "colab": {
          "base_uri": "https://localhost:8080/"
        },
        "outputId": "e715685a-e16e-410a-eb36-5e5ba241552d"
      },
      "outputs": [
        {
          "output_type": "stream",
          "name": "stdout",
          "text": [
            "Downloading...\n",
            "From: https://drive.google.com/uc?id=1dTaKofC9ZcMWa5cVtGLDFkEnbc4hiPJr\n",
            "To: /content/dataset-cybertrolls/dataset-cybertrolls.json\n",
            "100% 2.76M/2.76M [00:00<00:00, 158MB/s]\n",
            "Copying file://cybertrolls_cleaned.csv...\n",
            "/ [1 files][  1.4 MiB/  1.4 MiB]                                                \n",
            "Operation completed over 1 objects/1.4 MiB.                                      \n"
          ]
        }
      ],
      "source": [
        "! gdown \"1dTaKofC9ZcMWa5cVtGLDFkEnbc4hiPJr\"\n",
        "! gsutil cp cybertrolls_cleaned.csv //$WORK_DIR/resguardo.csv\n"
      ]
    },
    {
      "cell_type": "markdown",
      "metadata": {
        "id": "jLDlz_fL4UJA"
      },
      "source": [
        "### Validación preprocess train en local\n",
        "Con el comando mostrado a continuación se valida la correcta generación de los datos de entrenamiento y validación en local."
      ]
    },
    {
      "cell_type": "code",
      "source": [
        "!ls"
      ],
      "metadata": {
        "colab": {
          "base_uri": "https://localhost:8080/"
        },
        "id": "qtpuYpOhrtAU",
        "outputId": "87703e10-1d1c-4b4d-ce84-af9ee0c45405"
      },
      "execution_count": 39,
      "outputs": [
        {
          "output_type": "stream",
          "name": "stdout",
          "text": [
            "cybertrolls_cleaned.csv   pipeline_model.py    __pycache__\t trainer\n",
            "cybertrolls_modified.csv  pipeline_predict.py  requirements.txt  transformed_data\n",
            "dataset-cybertrolls.json  pipeline_split.py    setup.py\n"
          ]
        }
      ]
    },
    {
      "cell_type": "code",
      "source": [
        "import os\n",
        "\n",
        "%cd /content/dataset-cybertrolls/\n",
        "\n",
        "WORK_DIR = os.getcwd()"
      ],
      "metadata": {
        "id": "JpRWeXaOy0bM",
        "colab": {
          "base_uri": "https://localhost:8080/"
        },
        "outputId": "2da7d281-f659-4608-e78b-289f5306f0c5"
      },
      "execution_count": 40,
      "outputs": [
        {
          "output_type": "stream",
          "name": "stdout",
          "text": [
            "/content\n"
          ]
        }
      ]
    },
    {
      "cell_type": "code",
      "source": [
        "WORK_DIR"
      ],
      "metadata": {
        "colab": {
          "base_uri": "https://localhost:8080/",
          "height": 35
        },
        "id": "r85QwqhCy1to",
        "outputId": "9dc78a27-ec8f-400d-8ad6-d84b149614b2"
      },
      "execution_count": 41,
      "outputs": [
        {
          "output_type": "execute_result",
          "data": {
            "text/plain": [
              "'/content/dataset-cybertrolls'"
            ],
            "application/vnd.google.colaboratory.intrinsic+json": {
              "type": "string"
            }
          },
          "metadata": {},
          "execution_count": 41
        }
      ]
    },
    {
      "cell_type": "code",
      "execution_count": 42,
      "metadata": {
        "id": "vFpirg37C3bN",
        "colab": {
          "base_uri": "https://localhost:8080/"
        },
        "outputId": "6546d7a4-6c65-4c37-9a85-137b757e9db0"
      },
      "outputs": [
        {
          "output_type": "stream",
          "name": "stdout",
          "text": [
            "[nltk_data] Downloading package stopwords to /root/nltk_data...\n",
            "[nltk_data]   Package stopwords is already up-to-date!\n",
            "WARNING:apache_beam.runners.portability.fn_api_runner.fn_runner:If direct_num_workers is not equal to 1, direct_running_mode should be `multi_processing` or `multi_threading` instead of `in_memory` in order for it to have the desired worker parallelism effect. direct_num_workers: 2 ; running_mode: in_memory\n",
            "INFO:apache_beam.runners.portability.fn_api_runner.translations:==================== <function annotate_downstream_side_inputs at 0x78924e1193f0> ====================\n",
            "INFO:apache_beam.runners.portability.fn_api_runner.translations:==================== <function fix_side_input_pcoll_coders at 0x78924e119510> ====================\n",
            "INFO:apache_beam.runners.portability.fn_api_runner.translations:==================== <function pack_combiners at 0x78924e119a20> ====================\n",
            "INFO:apache_beam.runners.portability.fn_api_runner.translations:==================== <function lift_combiners at 0x78924e119ab0> ====================\n",
            "INFO:apache_beam.runners.portability.fn_api_runner.translations:==================== <function expand_sdf at 0x78924e119c60> ====================\n",
            "INFO:apache_beam.runners.portability.fn_api_runner.translations:==================== <function expand_gbk at 0x78924e119cf0> ====================\n",
            "INFO:apache_beam.runners.portability.fn_api_runner.translations:==================== <function sink_flattens at 0x78924e119e10> ====================\n",
            "INFO:apache_beam.runners.portability.fn_api_runner.translations:==================== <function greedily_fuse at 0x78924e119ea0> ====================\n",
            "INFO:apache_beam.runners.portability.fn_api_runner.translations:==================== <function read_to_impulse at 0x78924e119f30> ====================\n",
            "INFO:apache_beam.runners.portability.fn_api_runner.translations:==================== <function impulse_to_input at 0x78924e119fc0> ====================\n",
            "INFO:apache_beam.runners.portability.fn_api_runner.translations:==================== <function sort_stages at 0x78924e11a200> ====================\n",
            "INFO:apache_beam.runners.portability.fn_api_runner.translations:==================== <function add_impulse_to_dangling_transforms at 0x78924e11a320> ====================\n",
            "INFO:apache_beam.runners.portability.fn_api_runner.translations:==================== <function setup_timer_mapping at 0x78924e11a170> ====================\n",
            "INFO:apache_beam.runners.portability.fn_api_runner.translations:==================== <function populate_data_channel_coders at 0x78924e11a290> ====================\n",
            "INFO:apache_beam.runners.worker.statecache:Creating state cache with size 104857600\n",
            "INFO:apache_beam.runners.portability.fn_api_runner.worker_handlers:Created Worker handler <apache_beam.runners.portability.fn_api_runner.worker_handlers.EmbeddedWorkerHandler object at 0x78924de721a0> for environment ref_Environment_default_environment_1 (beam:env:embedded_python:v1, b'')\n",
            "INFO:apache_beam.runners.worker.statecache:Creating state cache with size 104857600\n",
            "INFO:apache_beam.runners.portability.fn_api_runner.worker_handlers:Created Worker handler <apache_beam.runners.portability.fn_api_runner.worker_handlers.EmbeddedWorkerHandler object at 0x78924de72d10> for environment ref_Environment_default_environment_1 (beam:env:embedded_python:v1, b'')\n",
            "WARNING:apache_beam.io.filebasedsink:Deleting 1 existing files in target path matching: -*-of-%(num_shards)05d\n",
            "WARNING:apache_beam.io.filebasedsink:Deleting 1 existing files in target path matching: -*-of-%(num_shards)05d\n",
            "INFO:apache_beam.io.filebasedsink:Starting finalize_write threads with num_shards: 1 (skipped: 0), batches: 1, num_threads: 1\n",
            "INFO:apache_beam.io.filebasedsink:Renamed 1 shards in 0.04 seconds.\n",
            "INFO:apache_beam.io.filebasedsink:Starting finalize_write threads with num_shards: 1 (skipped: 0), batches: 1, num_threads: 1\n",
            "INFO:apache_beam.io.filebasedsink:Renamed 1 shards in 0.02 seconds.\n"
          ]
        }
      ],
      "source": [
        "# Ejecutar el pipeline para generar datos de train/val\n",
        "! python3 pipeline_split.py \\\n",
        "    --work-dir $WORK_DIR \\\n",
        "    --runner DirectRunner \\\n",
        "    --input $WORK_DIR/cybertrolls_cleaned.csv \\\n",
        "    --output $WORK_DIR/transformed_data \\\n",
        "    --mode train"
      ]
    },
    {
      "cell_type": "markdown",
      "metadata": {
        "id": "wkkG271a4qnA"
      },
      "source": [
        "### Validación preprocess test en local\n",
        "\n",
        "Con el comando mostrado a continuación se valida la correcta generación de los datos de test en local."
      ]
    },
    {
      "cell_type": "code",
      "execution_count": 43,
      "metadata": {
        "id": "u4lkLgecLS3i",
        "colab": {
          "base_uri": "https://localhost:8080/"
        },
        "outputId": "56dd55a3-99cb-415a-f518-89a7ecd331df"
      },
      "outputs": [
        {
          "output_type": "stream",
          "name": "stdout",
          "text": [
            "[nltk_data] Downloading package stopwords to /root/nltk_data...\n",
            "[nltk_data]   Package stopwords is already up-to-date!\n",
            "WARNING:apache_beam.runners.portability.fn_api_runner.fn_runner:If direct_num_workers is not equal to 1, direct_running_mode should be `multi_processing` or `multi_threading` instead of `in_memory` in order for it to have the desired worker parallelism effect. direct_num_workers: 2 ; running_mode: in_memory\n",
            "INFO:apache_beam.runners.portability.fn_api_runner.translations:==================== <function annotate_downstream_side_inputs at 0x7c79c4948a60> ====================\n",
            "INFO:apache_beam.runners.portability.fn_api_runner.translations:==================== <function fix_side_input_pcoll_coders at 0x7c79c4948b80> ====================\n",
            "INFO:apache_beam.runners.portability.fn_api_runner.translations:==================== <function pack_combiners at 0x7c79c4949090> ====================\n",
            "INFO:apache_beam.runners.portability.fn_api_runner.translations:==================== <function lift_combiners at 0x7c79c4949120> ====================\n",
            "INFO:apache_beam.runners.portability.fn_api_runner.translations:==================== <function expand_sdf at 0x7c79c49492d0> ====================\n",
            "INFO:apache_beam.runners.portability.fn_api_runner.translations:==================== <function expand_gbk at 0x7c79c4949360> ====================\n",
            "INFO:apache_beam.runners.portability.fn_api_runner.translations:==================== <function sink_flattens at 0x7c79c4949480> ====================\n",
            "INFO:apache_beam.runners.portability.fn_api_runner.translations:==================== <function greedily_fuse at 0x7c79c4949510> ====================\n",
            "INFO:apache_beam.runners.portability.fn_api_runner.translations:==================== <function read_to_impulse at 0x7c79c49495a0> ====================\n",
            "INFO:apache_beam.runners.portability.fn_api_runner.translations:==================== <function impulse_to_input at 0x7c79c4949630> ====================\n",
            "INFO:apache_beam.runners.portability.fn_api_runner.translations:==================== <function sort_stages at 0x7c79c4949870> ====================\n",
            "INFO:apache_beam.runners.portability.fn_api_runner.translations:==================== <function add_impulse_to_dangling_transforms at 0x7c79c4949990> ====================\n",
            "INFO:apache_beam.runners.portability.fn_api_runner.translations:==================== <function setup_timer_mapping at 0x7c79c49497e0> ====================\n",
            "INFO:apache_beam.runners.portability.fn_api_runner.translations:==================== <function populate_data_channel_coders at 0x7c79c4949900> ====================\n",
            "INFO:apache_beam.runners.worker.statecache:Creating state cache with size 104857600\n",
            "INFO:apache_beam.runners.portability.fn_api_runner.worker_handlers:Created Worker handler <apache_beam.runners.portability.fn_api_runner.worker_handlers.EmbeddedWorkerHandler object at 0x7c79c46b5ed0> for environment ref_Environment_default_environment_1 (beam:env:embedded_python:v1, b'')\n",
            "INFO:apache_beam.runners.worker.statecache:Creating state cache with size 104857600\n",
            "INFO:apache_beam.runners.portability.fn_api_runner.worker_handlers:Created Worker handler <apache_beam.runners.portability.fn_api_runner.worker_handlers.EmbeddedWorkerHandler object at 0x7c79c46b7880> for environment ref_Environment_default_environment_1 (beam:env:embedded_python:v1, b'')\n",
            "WARNING:apache_beam.io.filebasedsink:Deleting 1 existing files in target path matching: -*-of-%(num_shards)05d\n",
            "INFO:apache_beam.io.filebasedsink:Starting finalize_write threads with num_shards: 1 (skipped: 0), batches: 1, num_threads: 1\n",
            "INFO:apache_beam.io.filebasedsink:Renamed 1 shards in 0.00 seconds.\n"
          ]
        }
      ],
      "source": [
        "# Ejecutar el pipeline para generar datos de test\n",
        "! python3 pipeline_split.py \\\n",
        "    --work-dir $WORK_DIR \\\n",
        "    --runner DirectRunner \\\n",
        "    --input $WORK_DIR/cybertrolls_cleaned.csv \\\n",
        "    --output $WORK_DIR/transformed_data \\\n",
        "    --mode test"
      ]
    },
    {
      "cell_type": "code",
      "source": [
        "# ELIMINO LOS VALORES NULOS PARA NO TENER PROBLEMAS AL PROCESAR LOS DATOS (al tokenizar me ha dado muchos errores con los nulos).\n",
        "# ENTIENDO QUE PODRIA HABERLOS ELIMINADO UNAS CELDAS MAS ARRIBA.\n",
        "\n",
        "# Rutas de los archivos CSV de entrada y salida\n",
        "input_csv_paths = [\n",
        "    \"/content/dataset-cybertrolls/transformed_data/train/part-00000-of-00001.csv\",\n",
        "    \"/content/dataset-cybertrolls/transformed_data/val/part-00000-of-00001.csv\",\n",
        "    \"/content/dataset-cybertrolls/transformed_data/test/part-00000-of-00001.csv\"\n",
        "]\n",
        "\n",
        "output_csv_paths = [\n",
        "    \"/content/dataset-cybertrolls/transformed_data/train/part-00000-of-00001.csv\",\n",
        "    \"/content/dataset-cybertrolls/transformed_data/val/part-00000-of-00001.csv\",\n",
        "    \"/content/dataset-cybertrolls/transformed_data/test/part-00000-of-00001.csv\"\n",
        "]\n",
        "\n",
        "\n",
        "for input_csv_path, output_csv_path in zip(input_csv_paths, output_csv_paths):\n",
        "    df = pd.read_csv(input_csv_path)\n",
        "    df = df.dropna()\n",
        "    df.to_csv(output_csv_path, index=False)\n",
        "\n",
        "print(\"Valores nulos eliminados y archivos CSV actualizados correctamente.\")"
      ],
      "metadata": {
        "colab": {
          "base_uri": "https://localhost:8080/"
        },
        "id": "WTs_4TDFJacK",
        "outputId": "553aed9d-4c0b-49ef-adc6-c40d983a06cb"
      },
      "execution_count": 44,
      "outputs": [
        {
          "output_type": "stream",
          "name": "stdout",
          "text": [
            "Valores nulos eliminados y archivos CSV actualizados correctamente.\n"
          ]
        }
      ]
    },
    {
      "cell_type": "markdown",
      "metadata": {
        "id": "geZM9Sbj45LK"
      },
      "source": [
        "## Segundo ejercicio\n",
        "\n",
        "Desarrollar una tarea de entrenamiento para los datos preprocesados. Requisitos:\n",
        "\n",
        "- Soportar ejecuciones en local usando el SDK de AI-Platform y ejecuciones en GCP con el mismo código."
      ]
    },
    {
      "cell_type": "markdown",
      "metadata": {
        "id": "OMUwXgm_5el-"
      },
      "source": [
        "Se crea el directorio donde trabajaremos:"
      ]
    },
    {
      "cell_type": "code",
      "execution_count": 45,
      "metadata": {
        "id": "HMi8dI1gLoIc",
        "colab": {
          "base_uri": "https://localhost:8080/"
        },
        "outputId": "8f0c59d5-1200-41e7-d7c8-cdde01723966"
      },
      "outputs": [
        {
          "output_type": "stream",
          "name": "stdout",
          "text": [
            "mkdir: cannot create directory ‘/content/dataset-cybertrolls/trainer’: File exists\n"
          ]
        }
      ],
      "source": [
        "%mkdir /content/dataset-cybertrolls/trainer"
      ]
    },
    {
      "cell_type": "code",
      "execution_count": 46,
      "metadata": {
        "id": "3dJyMXTuNPwo",
        "colab": {
          "base_uri": "https://localhost:8080/"
        },
        "outputId": "4e779625-6139-447a-a11f-9a2ffb98104a"
      },
      "outputs": [
        {
          "output_type": "stream",
          "name": "stdout",
          "text": [
            "Overwriting trainer/__init__.py\n"
          ]
        }
      ],
      "source": [
        "%%writefile trainer/__init__.py\n",
        "\n",
        "version = \"0.1.0\""
      ]
    },
    {
      "cell_type": "code",
      "execution_count": 47,
      "metadata": {
        "id": "mUu6gKaTL_S2",
        "colab": {
          "base_uri": "https://localhost:8080/"
        },
        "outputId": "a31abbf4-a7e5-45b6-fa9e-c96e8618192b"
      },
      "outputs": [
        {
          "output_type": "stream",
          "name": "stdout",
          "text": [
            "Requirement already satisfied: numpy in /usr/local/lib/python3.10/dist-packages (1.26.4)\n",
            "Requirement already satisfied: scipy in /usr/local/lib/python3.10/dist-packages (1.13.0)\n",
            "Requirement already satisfied: pandas in /usr/local/lib/python3.10/dist-packages (2.2.1)\n",
            "Requirement already satisfied: python-dateutil>=2.8.2 in /usr/local/lib/python3.10/dist-packages (from pandas) (2.8.2)\n",
            "Requirement already satisfied: pytz>=2020.1 in /usr/local/lib/python3.10/dist-packages (from pandas) (2023.4)\n",
            "Requirement already satisfied: tzdata>=2022.7 in /usr/local/lib/python3.10/dist-packages (from pandas) (2024.1)\n",
            "Requirement already satisfied: six>=1.5 in /usr/local/lib/python3.10/dist-packages (from python-dateutil>=2.8.2->pandas) (1.16.0)\n"
          ]
        }
      ],
      "source": [
        "! pip install --upgrade numpy scipy pandas"
      ]
    },
    {
      "cell_type": "code",
      "source": [
        "%%writefile /content/dataset-cybertrolls/pipeline_model.py\n",
        "\n",
        "import os\n",
        "import argparse\n",
        "import logging\n",
        "import pickle\n",
        "\n",
        "import pandas as pd\n",
        "import tensorflow as tf\n",
        "\n",
        "from sklearn.model_selection import train_test_split\n",
        "from tensorflow.keras.preprocessing.text import Tokenizer\n",
        "from tensorflow.keras.preprocessing.sequence import pad_sequences\n",
        "\n",
        "\n",
        "def generate_tokenizer(train_csv, val_csv, test_csv, job_dir):\n",
        "\n",
        "    train_df = pd.read_csv(train_csv, dtype=str)\n",
        "    val_df = pd.read_csv(val_csv, dtype=str)\n",
        "    test_df = pd.read_csv(test_csv, dtype=str)\n",
        "\n",
        "    x_train = train_df.iloc[:, 0]\n",
        "    x_val = val_df.iloc[:, 0]\n",
        "    x_test = test_df.iloc[:, 0]\n",
        "\n",
        "    y_train = train_df.iloc[:, 1]\n",
        "    y_val = val_df.iloc[:, 1]\n",
        "    y_test = test_df.iloc[:, 1]\n",
        "\n",
        "    tokenizer = Tokenizer()\n",
        "    tokenizer.fit_on_texts(x_train)\n",
        "\n",
        "    # Guardar el tokenizer como un archivo pickle\n",
        "    tokenizer_path = os.path.join(job_dir, 'dp_model', 'tokenizer.pkl')\n",
        "    with open(tokenizer_path, 'wb') as handle:\n",
        "        pickle.dump(tokenizer, handle, protocol=pickle.HIGHEST_PROTOCOL)\n",
        "\n",
        "    train_sequences = tokenizer.texts_to_sequences(x_train)\n",
        "    val_sequences = tokenizer.texts_to_sequences(x_val)\n",
        "    test_sequences = tokenizer.texts_to_sequences(x_test)\n",
        "\n",
        "    return tokenizer, train_sequences, val_sequences, test_sequences\n",
        "\n",
        "\n",
        "# Actualiza tu función de entrenamiento para cargar los datos y generar el tokenizer\n",
        "\n",
        "def train_model(epochs, job_dir, train_csv, val_csv, test_csv):\n",
        "    tokenizer, train_sequences, val_sequences, test_sequences = generate_tokenizer(\n",
        "      train_csv, val_csv, test_csv, job_dir)\n",
        "\n",
        "    max_sequence_length = max([len(seq) for seq in train_sequences + val_sequences + test_sequences])\n",
        "    train_sequences = pad_sequences(train_sequences, maxlen=max_sequence_length, padding='post')\n",
        "    val_sequences = pad_sequences(val_sequences, maxlen=max_sequence_length, padding='post')\n",
        "    test_sequences = pad_sequences(test_sequences, maxlen=max_sequence_length, padding='post')\n",
        "\n",
        "\n",
        "    train_df = pd.read_csv(train_csv)\n",
        "    val_df = pd.read_csv(val_csv)\n",
        "    test_df = pd.read_csv(test_csv)\n",
        "\n",
        "    train_df = train_df.dropna()\n",
        "    val_df = val_df.dropna()\n",
        "    test_df = test_df.dropna()\n",
        "\n",
        "    y_train = train_df.iloc[:, 1]\n",
        "    y_val = val_df.iloc[:, 1]\n",
        "    y_test = test_df.iloc[:, 1]\n",
        "\n",
        "\n",
        "    model = MyModel()\n",
        "\n",
        "    model.compile(optimizer='adam',\n",
        "                  loss=tf.keras.losses.MeanSquaredError(),\n",
        "                  metrics=['accuracy'])\n",
        "\n",
        "    model.fit(train_sequences, y_train, validation_data=(val_sequences, y_val), epochs=epochs)\n",
        "\n",
        "    model.save(os.path.join(job_dir, 'dp_model'))\n",
        "\n",
        "    loss, accuracy = model.evaluate(test_sequences, y_test)\n",
        "\n",
        "    logging.info(f'Loss: {loss}, Accuracy: {accuracy}')\n",
        "\n",
        "\n",
        "\n",
        "\n",
        "class MyModel(tf.keras.Model):\n",
        "    def __init__(self):\n",
        "        super(MyModel, self).__init__()\n",
        "        # Definir las capas del modelo\n",
        "        self.dense1 = tf.keras.layers.Dense(64, activation='relu')\n",
        "        self.dense2 = tf.keras.layers.Dense(1, activation='sigmoid')\n",
        "\n",
        "    def call(self, inputs):\n",
        "        # Definir la lógica de la propagación hacia adelante\n",
        "        x = self.dense1(inputs)\n",
        "        return self.dense2(x)\n",
        "\n",
        "\n",
        "\n",
        "if __name__ == '__main__':\n",
        "    # Configurar los argumentos de línea de comandos\n",
        "    parser = argparse.ArgumentParser()\n",
        "    parser.add_argument('--work_dir', dest='work_dir', required=True,\n",
        "                        help='Directorio de trabajo para guardar el modelo entrenado')\n",
        "    parser.add_argument('--epochs', dest='epochs', type=int, default=1,\n",
        "                        help='Número de épocas de entrenamiento')\n",
        "    parser.add_argument('--train-csv', dest='train_csv', required=True,\n",
        "                        help='Ruta al archivo CSV de entrenamiento')\n",
        "    parser.add_argument('--val-csv', dest='val_csv', required=True,\n",
        "                        help='Ruta al archivo CSV de validación')\n",
        "    parser.add_argument('--test-csv', dest='test_csv', required=True,\n",
        "                        help='Ruta al archivo CSV de prueba')\n",
        "    args = parser.parse_args()\n",
        "\n",
        "\n",
        "\n",
        "    logging.basicConfig(level=logging.INFO)\n",
        "\n",
        "    # Entreno el modelo\n",
        "    train_model(args.epochs, args.work_dir, args.train_csv, args.val_csv, args.test_csv)\n",
        "\n"
      ],
      "metadata": {
        "colab": {
          "base_uri": "https://localhost:8080/"
        },
        "id": "8E4LVavTaVKb",
        "outputId": "a087c451-a02f-4973-dada-71828659b2f9"
      },
      "execution_count": 48,
      "outputs": [
        {
          "output_type": "stream",
          "name": "stdout",
          "text": [
            "Overwriting /content/dataset-cybertrolls/pipeline_model.py\n"
          ]
        }
      ]
    },
    {
      "cell_type": "markdown",
      "metadata": {
        "id": "8axPHdHX6d9W"
      },
      "source": [
        "### Validación Train en local\n",
        "\n",
        "Con el comando mostrado a continuación se valida el correcto entrenamiento del modelo usando los datos preprocesados del apartado anterior."
      ]
    },
    {
      "cell_type": "code",
      "execution_count": 49,
      "metadata": {
        "id": "m9997ZzsLmq-",
        "colab": {
          "base_uri": "https://localhost:8080/"
        },
        "outputId": "ae49df43-a882-405a-ad32-d6deef094a6a"
      },
      "outputs": [
        {
          "output_type": "stream",
          "name": "stdout",
          "text": [
            "2024-04-07 19:59:31.212845: E external/local_xla/xla/stream_executor/cuda/cuda_dnn.cc:9261] Unable to register cuDNN factory: Attempting to register factory for plugin cuDNN when one has already been registered\n",
            "2024-04-07 19:59:31.212953: E external/local_xla/xla/stream_executor/cuda/cuda_fft.cc:607] Unable to register cuFFT factory: Attempting to register factory for plugin cuFFT when one has already been registered\n",
            "2024-04-07 19:59:31.220888: E external/local_xla/xla/stream_executor/cuda/cuda_blas.cc:1515] Unable to register cuBLAS factory: Attempting to register factory for plugin cuBLAS when one has already been registered\n",
            "2024-04-07 19:59:31.269082: I tensorflow/core/platform/cpu_feature_guard.cc:182] This TensorFlow binary is optimized to use available CPU instructions in performance-critical operations.\n",
            "To enable the following instructions: AVX2 FMA, in other operations, rebuild TensorFlow with the appropriate compiler flags.\n",
            "2024-04-07 19:59:42.574717: W tensorflow/compiler/tf2tensorrt/utils/py_utils.cc:38] TF-TRT Warning: Could not find TensorRT\n",
            "497/497 [==============================] - 10s 15ms/step - loss: 0.4285 - accuracy: 0.5647 - val_loss: 0.3940 - val_accuracy: 0.5965\n",
            "INFO:tensorflow:Assets written to: /content/dataset-cybertrolls/transformed_data/dp_model/assets\n",
            "INFO:tensorflow:Assets written to: /content/dataset-cybertrolls/transformed_data/dp_model/assets\n",
            "622/622 [==============================] - 3s 5ms/step - loss: 0.3975 - accuracy: 0.5967\n",
            "INFO:root:Loss: 0.3974672853946686, Accuracy: 0.5966606140136719\n"
          ]
        }
      ],
      "source": [
        "!python pipeline_model.py \\\n",
        "  --work_dir /content/dataset-cybertrolls/transformed_data \\\n",
        "  --train-csv /content/dataset-cybertrolls/transformed_data/train/part-00000-of-00001.csv \\\n",
        "  --val-csv /content/dataset-cybertrolls/transformed_data/val/part-00000-of-00001.csv \\\n",
        "  --test-csv /content/dataset-cybertrolls/transformed_data/test/part-00000-of-00001.csv \\\n",
        "  --epochs 1\n"
      ]
    },
    {
      "cell_type": "code",
      "source": [
        "from google.colab import drive\n",
        "drive.mount('/content/drive')"
      ],
      "metadata": {
        "colab": {
          "base_uri": "https://localhost:8080/"
        },
        "id": "5O6X91oqOXUu",
        "outputId": "6253da34-4a75-43f1-8c2b-ceca6a319678"
      },
      "execution_count": 50,
      "outputs": [
        {
          "output_type": "stream",
          "name": "stdout",
          "text": [
            "Drive already mounted at /content/drive; to attempt to forcibly remount, call drive.mount(\"/content/drive\", force_remount=True).\n"
          ]
        }
      ]
    },
    {
      "cell_type": "code",
      "source": [
        "# Guardamos el modelo\n",
        "# Guardamos la carpeta en Google Drive\n",
        "!cp -r /content/dataset-cybertrolls /content/drive/MyDrive/\n"
      ],
      "metadata": {
        "id": "ZQPdILKDOjbr"
      },
      "execution_count": 51,
      "outputs": []
    },
    {
      "cell_type": "markdown",
      "metadata": {
        "id": "0nhlkcjn62Zo"
      },
      "source": [
        "## Tercer ejercicio\n",
        "\n",
        "Desarrollar un pipeline de inferencia utilizando Apache Beam para generar predicciones usando los modelos generados en el apartado anterior así como los datos de test generados en el primer ejercicio.\n"
      ]
    },
    {
      "cell_type": "code",
      "source": [
        "%%writefile /content/dataset-cybertrolls/pipeline_predict.py\n",
        "\n",
        "import os\n",
        "import argparse\n",
        "import logging\n",
        "import pickle\n",
        "import pandas as pd\n",
        "import tensorflow as tf\n",
        "from apache_beam.options.pipeline_options import PipelineOptions\n",
        "import apache_beam as beam\n",
        "\n",
        "class Predict(beam.DoFn):\n",
        "    def __init__(self, model_dir):\n",
        "        self.model_dir = model_dir\n",
        "        self.model = None\n",
        "        self.tokenizer = None\n",
        "\n",
        "    def setup(self):\n",
        "        tokenizer_path = os.path.join(self.model_dir, 'tokenizer.pkl')\n",
        "        with open(tokenizer_path, 'rb') as tokenizer_file:\n",
        "            self.tokenizer = pickle.load(tokenizer_file)\n",
        "\n",
        "        self.model = tf.keras.models.load_model(self.model_dir)\n",
        "\n",
        "\n",
        "    def process(self, element):\n",
        "        if self.model is None or self.tokenizer is None:\n",
        "            logging.error(\"Model or tokenizer not loaded properly.\")\n",
        "            return\n",
        "\n",
        "        test_csv_path = element\n",
        "        test_df = pd.read_csv(test_csv_path)\n",
        "        test_sequences = self.tokenizer.texts_to_sequences(test_df.iloc[:, 0])\n",
        "        max_sequence_length = max([len(seq) for seq in test_sequences])\n",
        "        test_sequences = tf.keras.preprocessing.sequence.pad_sequences(test_sequences, maxlen=max_sequence_length, padding='post')\n",
        "        predictions = self.model.predict(test_sequences)\n",
        "\n",
        "        loss, accuracy = self.model.evaluate(test_sequences, test_df.iloc[:, 1], verbose=0)\n",
        "\n",
        "        yield {\n",
        "            'loss': loss,\n",
        "            'accuracy': accuracy\n",
        "        }\n",
        "\n",
        "def run_inference_pipeline(test_csv_paths, model_dir):\n",
        "    options = PipelineOptions()\n",
        "    with beam.Pipeline(options=options) as pipeline:\n",
        "        _ = (\n",
        "            pipeline\n",
        "            | 'Creamos' >> beam.Create(test_csv_paths)\n",
        "            | 'Predict' >> beam.ParDo(Predict(model_dir))\n",
        "            | 'Imprime' >> beam.Map(print)\n",
        "        )\n",
        "\n",
        "if __name__ == '__main__':\n",
        "    parser = argparse.ArgumentParser()\n",
        "    parser.add_argument('--test-csv-paths', dest='test_csv_paths', nargs='+', required=True,\n",
        "                        help='Paths to the CSV files containing test data')\n",
        "    parser.add_argument('--model-dir', dest='model_dir', required=True,\n",
        "                        help='Directory containing the trained model')\n",
        "    args = parser.parse_args()\n",
        "\n",
        "    logging.basicConfig(level=logging.INFO)\n",
        "\n",
        "    run_inference_pipeline(args.test_csv_paths, args.model_dir)\n",
        "\n"
      ],
      "metadata": {
        "colab": {
          "base_uri": "https://localhost:8080/"
        },
        "id": "RRm5OGLPBJQ0",
        "outputId": "789690f0-132d-4ab7-f3f6-606d5c981b4c"
      },
      "execution_count": 52,
      "outputs": [
        {
          "output_type": "stream",
          "name": "stdout",
          "text": [
            "Overwriting /content/dataset-cybertrolls/pipeline_predict.py\n"
          ]
        }
      ]
    },
    {
      "cell_type": "markdown",
      "metadata": {
        "id": "MUdgcLIP7a42"
      },
      "source": [
        "Generamos un timestamp para la ejecución de las predicciones\n",
        "\n",
        "\n",
        "\n"
      ]
    },
    {
      "cell_type": "code",
      "execution_count": 53,
      "metadata": {
        "id": "_pvKMtuQPOlr"
      },
      "outputs": [],
      "source": [
        "from datetime import datetime\n",
        "\n",
        "# Genera un timestamp para la ejecución de las predicciones\n",
        "\n",
        "TIMESTAMP = datetime.now().strftime('%Y-%m-%d_%H-%M-%S')"
      ]
    },
    {
      "cell_type": "code",
      "source": [
        "TIMESTAMP"
      ],
      "metadata": {
        "colab": {
          "base_uri": "https://localhost:8080/",
          "height": 35
        },
        "id": "Ct7EvFz8pbEx",
        "outputId": "be300a3a-4a91-42a0-c951-8c39e3ce665f"
      },
      "execution_count": 54,
      "outputs": [
        {
          "output_type": "execute_result",
          "data": {
            "text/plain": [
              "'2024-04-07_20-00-21'"
            ],
            "application/vnd.google.colaboratory.intrinsic+json": {
              "type": "string"
            }
          },
          "metadata": {},
          "execution_count": 54
        }
      ]
    },
    {
      "cell_type": "markdown",
      "metadata": {
        "id": "RkLMdMup70ne"
      },
      "source": [
        "### Validación Predict en local\n",
        "\n",
        "Con el comando mostrado a continuación se valida la correcta inferencia usando los modelos anteriores y los datos de test generados anteriormente."
      ]
    },
    {
      "cell_type": "code",
      "source": [
        "! python3 pipeline_predict.py \\\n",
        "   --test-csv-paths \"/content/dataset-cybertrolls/transformed_data/test/part-00000-of-00001.csv\" \\\n",
        "   --model-dir \"/content/dataset-cybertrolls/transformed_data/dp_model\""
      ],
      "metadata": {
        "colab": {
          "base_uri": "https://localhost:8080/"
        },
        "id": "9EhKkyGgBjfh",
        "outputId": "898cf7f9-c90f-491f-a233-f22cbeb290b5"
      },
      "execution_count": 55,
      "outputs": [
        {
          "output_type": "stream",
          "name": "stdout",
          "text": [
            "2024-04-07 20:00:28.520033: E external/local_xla/xla/stream_executor/cuda/cuda_dnn.cc:9261] Unable to register cuDNN factory: Attempting to register factory for plugin cuDNN when one has already been registered\n",
            "2024-04-07 20:00:28.534376: E external/local_xla/xla/stream_executor/cuda/cuda_fft.cc:607] Unable to register cuFFT factory: Attempting to register factory for plugin cuFFT when one has already been registered\n",
            "2024-04-07 20:00:28.536960: E external/local_xla/xla/stream_executor/cuda/cuda_blas.cc:1515] Unable to register cuBLAS factory: Attempting to register factory for plugin cuBLAS when one has already been registered\n",
            "2024-04-07 20:00:28.611944: I tensorflow/core/platform/cpu_feature_guard.cc:182] This TensorFlow binary is optimized to use available CPU instructions in performance-critical operations.\n",
            "To enable the following instructions: AVX2 FMA, in other operations, rebuild TensorFlow with the appropriate compiler flags.\n",
            "2024-04-07 20:00:39.970523: W tensorflow/compiler/tf2tensorrt/utils/py_utils.cc:38] TF-TRT Warning: Could not find TensorRT\n",
            "INFO:root:Missing pipeline option (runner). Executing pipeline using the default runner: DirectRunner.\n",
            "WARNING:apache_beam.options.pipeline_options:Discarding unparseable args: ['--test-csv-paths', '/content/dataset-cybertrolls/transformed_data/test/part-00000-of-00001.csv', '--model-dir', '/content/dataset-cybertrolls/transformed_data/dp_model']\n",
            "INFO:apache_beam.runners.portability.fn_api_runner.translations:==================== <function annotate_downstream_side_inputs at 0x7b07bd07de10> ====================\n",
            "INFO:apache_beam.runners.portability.fn_api_runner.translations:==================== <function fix_side_input_pcoll_coders at 0x7b07bd07df30> ====================\n",
            "INFO:apache_beam.runners.portability.fn_api_runner.translations:==================== <function pack_combiners at 0x7b07bd07e440> ====================\n",
            "INFO:apache_beam.runners.portability.fn_api_runner.translations:==================== <function lift_combiners at 0x7b07bd07e4d0> ====================\n",
            "INFO:apache_beam.runners.portability.fn_api_runner.translations:==================== <function expand_sdf at 0x7b07bd07e680> ====================\n",
            "INFO:apache_beam.runners.portability.fn_api_runner.translations:==================== <function expand_gbk at 0x7b07bd07e710> ====================\n",
            "INFO:apache_beam.runners.portability.fn_api_runner.translations:==================== <function sink_flattens at 0x7b07bd07e830> ====================\n",
            "INFO:apache_beam.runners.portability.fn_api_runner.translations:==================== <function greedily_fuse at 0x7b07bd07e8c0> ====================\n",
            "INFO:apache_beam.runners.portability.fn_api_runner.translations:==================== <function read_to_impulse at 0x7b07bd07e950> ====================\n",
            "INFO:apache_beam.runners.portability.fn_api_runner.translations:==================== <function impulse_to_input at 0x7b07bd07e9e0> ====================\n",
            "INFO:apache_beam.runners.portability.fn_api_runner.translations:==================== <function sort_stages at 0x7b07bd07ec20> ====================\n",
            "INFO:apache_beam.runners.portability.fn_api_runner.translations:==================== <function add_impulse_to_dangling_transforms at 0x7b07bd07ed40> ====================\n",
            "INFO:apache_beam.runners.portability.fn_api_runner.translations:==================== <function setup_timer_mapping at 0x7b07bd07eb90> ====================\n",
            "INFO:apache_beam.runners.portability.fn_api_runner.translations:==================== <function populate_data_channel_coders at 0x7b07bd07ecb0> ====================\n",
            "INFO:apache_beam.runners.worker.statecache:Creating state cache with size 104857600\n",
            "INFO:apache_beam.runners.portability.fn_api_runner.worker_handlers:Created Worker handler <apache_beam.runners.portability.fn_api_runner.worker_handlers.EmbeddedWorkerHandler object at 0x7b07bcdf8f70> for environment ref_Environment_default_environment_1 (beam:env:embedded_python:v1, b'')\n",
            "622/622 [==============================] - 3s 4ms/step\n",
            "{'loss': 0.3974672853946686, 'accuracy': 0.5966606140136719}\n"
          ]
        }
      ]
    },
    {
      "cell_type": "code",
      "source": [
        "# Guardamos el modelo\n",
        "# Guardamos la carpeta en Google Drive\n",
        "!cp -r /content/dataset-cybertrolls /content/drive/MyDrive/"
      ],
      "metadata": {
        "id": "e6_l8TlWFzMC"
      },
      "execution_count": 56,
      "outputs": []
    },
    {
      "cell_type": "markdown",
      "source": [
        "JULLEN HA SIDO UNA DE LAS PRACTICAS MAS COMPLICADAS QUE HE REALIZADO, HE BUSCANDO MUCHA INFORMANCIÓN PARA PODER ENTENDER LOS PROCESOS. ME LLEVO UNA EXCELENTE ENSEÑANDA Y MUCHISIMAS COSAS POR MEJORAR. DISCULPA POR NO PODER USAR EL TIMESTAMP EN EL PREDICT PERO ME DABA MUCHISIMOS ERRORES Y QUERIA ENTREGAR LA PRACTICA LO MEJOR QUE PUEDA. TAMBIEN ENTIENDO QUE NO ES LA MEJOR MANERA DE ENTREGAR LA PRACTICA PERO POR TEMAS DE TIEMPO NO ME DA PARA HACER MEJORAS. ACABO DE EJECUTAR EL NOTEBOOK COMPLETO Y VEO QUE FUNCIONA CORRECTAMENTE, POR FAVOR HAZME UNA DEVOLUCION CONSTRUCTIVA YA QUE LA NECESITO DE CARA AL FUTURO. MUCHAS GRACIAS POR TUS HORAS DEDICADAS A LA EXPLICACION."
      ],
      "metadata": {
        "id": "BkBkkvmrJ6kD"
      }
    },
    {
      "cell_type": "markdown",
      "metadata": {
        "id": "co3YBKjscCVI"
      },
      "source": [
        "# Mensaje final\n",
        "\n",
        "¡Muchas gracias por participar en este curso, espero que tanto las sesiones teóricas como la práctica te hayan resultado útiles. A lo largo de esta semmana iréis recibiendo feedback personalizado sobre vuestras prácticas.\n",
        "\n",
        "¡Muchas gracias y ánimo con el proyecto final!"
      ]
    }
  ],
  "metadata": {
    "colab": {
      "provenance": []
    },
    "kernelspec": {
      "display_name": "Python 3",
      "name": "python3"
    },
    "language_info": {
      "codemirror_mode": {
        "name": "ipython",
        "version": 3
      },
      "file_extension": ".py",
      "mimetype": "text/x-python",
      "name": "python",
      "nbconvert_exporter": "python",
      "pygments_lexer": "ipython3",
      "version": "3.11.2"
    }
  },
  "nbformat": 4,
  "nbformat_minor": 0
}